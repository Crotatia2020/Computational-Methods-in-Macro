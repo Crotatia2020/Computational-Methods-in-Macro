{
 "cells": [
  {
   "cell_type": "markdown",
   "metadata": {
    "collapsed": true,
    "pycharm": {
     "name": "#%% md\n"
    }
   },
   "source": [
    "## Problem set 3\n",
    "\n",
    "Lets add TFP shocks to the simple RBC model. Assume $\\alpha = 0.3$, $\\beta = 1.04^{(-1/4)}$, $\\delta = 0.025$ and\n",
    "$\\sigma=1$. Assume in good times the TFP is $z_g = 1.02$, and in bad times is $z_b = 0.98$. In addition, let $z$ follow\n",
    "a Markov chain with the following transition matrix: $P = \\begin{bmatrix} 0.7 & 0.3\\\\ 0.3 & 0.7\\end{bmatrix}$. Now the\n",
    "state variables are $z$ and $k$. Now the Bellman equation is:\n",
    "\n",
    "\\begin{align}\n",
    "V(k,z) = max_{k'} (u(k,z,k') + \\beta E_z V(k',z'))\n",
    "\\end{align}\n",
    "\n",
    "A. Find the nonstochastic steady state capital ($\\bar{z}=1$).\n",
    "\n",
    "B. Create a grid for $k$ with size $N=1000$ starting at $0.9k_{ss}$ and ending at $1.1k_{ss}$. Iterate on the Bellman\n",
    " equation to find V(k,z). Note now V is a $N\\times2$ matrix.\n",
    "\n",
    "C. Plot V in good times and in bad times over $k$. Plot the associated policy functions.\n",
    "\n",
    "D. Simulate the economy for 100 periods. Plot $z$, $k'$ and $c$ simulations.\n"
   ]
  }
 ],
 "metadata": {
  "kernelspec": {
   "display_name": "Python 3",
   "language": "python",
   "name": "python3"
  },
  "language_info": {
   "codemirror_mode": {
    "name": "ipython",
    "version": 2
   },
   "file_extension": ".py",
   "mimetype": "text/x-python",
   "name": "python",
   "nbconvert_exporter": "python",
   "pygments_lexer": "ipython2",
   "version": "2.7.6"
  }
 },
 "nbformat": 4,
 "nbformat_minor": 0
}