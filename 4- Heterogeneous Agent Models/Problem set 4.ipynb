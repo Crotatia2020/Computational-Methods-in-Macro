{
 "cells": [
  {
   "cell_type": "markdown",
   "metadata": {
    "pycharm": {
     "name": "#%% md\n"
    }
   },
   "source": [
    "## Problem set 4\n",
    "\n",
    "Solve the Aiyagari model with the same parameters as in class using the Euler equation iteration with the endogenous\n",
    "grid method. Steps:\n",
    "\n",
    "1. Define a function that given aggregate K finds prices.\n",
    "\n",
    "2. Find the optimal policy function of the HHs given prices\n",
    "\n",
    "3. Turn g into a transition matrix. Find the stationary distribution of assets using the eigenvector method.\n",
    "\n",
    "4. Define a function that given prices gives aggregate $K_s$. Plot this function and the demand for capital.\n",
    "\n",
    "5. Use the bisection method to find the interest rate that clears the capital market.\n",
    "\n",
    "6. Plot your consumption policy functions and plot the equilibrium invariant distribution of capital.\n",
    "\n"
   ]
  }
 ],
 "metadata": {
  "kernelspec": {
   "display_name": "Python 3",
   "language": "python",
   "name": "python3"
  },
  "language_info": {
   "codemirror_mode": {
    "name": "ipython",
    "version": 3
   },
   "file_extension": ".py",
   "mimetype": "text/x-python",
   "name": "python",
   "nbconvert_exporter": "python",
   "pygments_lexer": "ipython3",
   "version": "3.8.3"
  }
 },
 "nbformat": 4,
 "nbformat_minor": 4
}