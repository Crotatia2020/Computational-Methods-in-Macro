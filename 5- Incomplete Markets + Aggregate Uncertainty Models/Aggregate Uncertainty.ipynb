{
 "cells": [
  {
   "cell_type": "markdown",
   "metadata": {},
   "source": [
    "## Incomplete Markets with Aggregate Uncertainty"
   ]
  },
  {
   "cell_type": "markdown",
   "metadata": {},
   "source": [
    "The Aiyagari model has one very compromising downside:\n",
    "\n",
    "- Aggregate variables like output, consumption and investment are all constant!\n",
    "\n",
    "- So we cannot analyze business cycle properties."
   ]
  },
  {
   "cell_type": "markdown",
   "metadata": {},
   "source": [
    "###  Aiyagari model + Aggregate uncertainty models are hard to solve\n",
    "\n",
    "Let $y$ denote the control variables, $k$ the state variables, $z$ the stochastic variables, and $\\Gamma$ the joint distribution.\n",
    "\n",
    "- Challenge: $y = G(\\Gamma, z)$ and $k'= H(\\Gamma, z)$ where $\\Gamma$ is infinite-dimensional.\n",
    "\n",
    "Solving this challenge was the contribution of Krusell and Smith (1998): mix of nonlinear and linear solution based on simulation\n",
    "along with bounded rationality assumption.\n",
    "\n",
    "- Caveats:\n",
    "    - this approximate aggregation equilibrium of KS98 does not always hold. For instance, it does not hold\n",
    "in the two assets HANK model.\n",
    "    - very slow\n",
    "\n",
    "\n",
    "Here are some alternative methods that have gained popularity:\n",
    "\n",
    "1. Reiter (2009)\n",
    "    - found a way to linearize G and H\n",
    "2. Boppart, Krusell and Mitman (2018), henceforth BKM18\n",
    "    - Use one nonlinear IRF and turn it around to simulate economy based on linearity assumption (Wold Decomposition)\n",
    "3. Ahn, Kaplan, Moll, Winberry, and Wolf (2018)\n",
    "    - similar idea to Reiter but in continuous time\n",
    "\n",
    "\n",
    "- Caveats:\n",
    "    - only valid around the stationary steady state: small shocks only\n",
    "    - cannot be used in situations where the model is clearly nonlinear in aggregates: portfolio choice, stochastic volatility\n",
    "\n",
    "Finally, for some problems where a full solution or simulation is not needed, some have just computed MIT shocks:\n",
    "one unanticipated shock with perfect foresight transition back to stationary steady state.\n",
    "\n",
    "- The general principle is to consider an Aiyagari economy that is at its steady-state in period $t$.\n",
    "\n",
    "- Then we expose the economy to some temporary shock, under the assumption that the economy will fully have reverted back to its steady-state in period $t + T$.\n",
    "\n",
    "- Then it’s not that hard to calculate the transition of the economy between period $t$ and $t + T$. Just compute the perfect foresight transition back to steady state!"
   ]
  },
  {
   "cell_type": "markdown",
   "metadata": {},
   "source": [
    "### MIT shocks: Calculating the transition"
   ]
  },
  {
   "cell_type": "markdown",
   "metadata": {
    "pycharm": {
     "name": "#%% md\n"
    }
   },
   "source": [
    "- General principle: Guess how the capital stock will evolve from period $t + 1$ to period $t + T$ , assuming that\n",
    "it’s back to it’s steady state value in $t + T + 1$. Call this guess$\\{k_{t+s}^0 \\}^T_{s=1}$.\n",
    "\n",
    "\n",
    "- Given this guess, we can calculate wages and interest rates as $w^0_{t+s} = exp(z_{t+s})F_n(k^0_t,n)$ and\n",
    "$\\tilde{r}^0_{t+s} = exp(z_{t+s})F_k(k^0_t,n)$\n",
    "\n",
    "\n",
    "- Using time iteration again, we can find $\\tilde{g}(a, s)$ as\n",
    "$$u^\\prime((1+r^0_{t+s} )a+w^0_{t+s}−\\tilde{g}(a,s)) = β(1 + r^0_{t+s+1} \\sum_{s^\\prime} u^\\prime((1 + r^0_{t+s+1} )\\tilde{g}(a, s) + w^0_{t+s+1} − g^0_{t+s+1} (\\tilde{g}(a, s), s′))p(s′, s)$$\n",
    "\n",
    "\n",
    "- Then $g^0_{t+s}(a,s) =  max\\{\\tilde{g}(a,s), \\phi  \\}$, with $g_{t+T+1}(a,s)= g(a,s)$\n",
    "\n",
    "\n",
    "- Then for each $g^0_t, g^0){t+1} , ..., g^0_{t+s}$ we can find a transition matrix $M^0_{t+s}$\n",
    "\n",
    "\n",
    "- Given that we know $ψt (a, s) = ψ(a, s)$, we can update matrix as $ψ^0_{t+s+1} = ψ^0_{t+s} × M^0_{t+s} $, and calculate the implied aggregate asset holdings $A^0_{t+s}$ \n",
    "\n",
    "\n",
    "- Finally Then we update our guess for the sequence of capital as \n",
    "$\\{k^1_{t+s} \\}^T_{s=1} = η\\{k^0_{t+s} \\}^T_{s=1} + (1 − η)\\{A^0_{t+s} \\}^T_{s=1}$ with $η ∈ (0, 1]$\n",
    "\n",
    "\n",
    "- And repeat until $||\\{k^{n+1}_{t+s}\\}^T_{s=1} − \\{k^n_{t+s} \\}^T_{s=1}||<\\epsilon$\n"
   ]
  }
 ],
 "metadata": {
  "kernelspec": {
   "display_name": "Python 3",
   "language": "python",
   "name": "python3"
  },
  "language_info": {
   "codemirror_mode": {
    "name": "ipython",
    "version": 3
   },
   "file_extension": ".py",
   "mimetype": "text/x-python",
   "name": "python",
   "nbconvert_exporter": "python",
   "pygments_lexer": "ipython3",
   "version": "3.8.3"
  },
  "varInspector": {
   "cols": {
    "lenName": 16,
    "lenType": 16,
    "lenVar": 40
   },
   "kernels_config": {
    "python": {
     "delete_cmd_postfix": "",
     "delete_cmd_prefix": "del ",
     "library": "var_list.py",
     "varRefreshCmd": "print(var_dic_list())"
    },
    "r": {
     "delete_cmd_postfix": ") ",
     "delete_cmd_prefix": "rm(",
     "library": "var_list.r",
     "varRefreshCmd": "cat(var_dic_list()) "
    }
   },
   "types_to_exclude": [
    "module",
    "function",
    "builtin_function_or_method",
    "instance",
    "_Feature"
   ],
   "window_display": false
  }
 },
 "nbformat": 4,
 "nbformat_minor": 4
}
