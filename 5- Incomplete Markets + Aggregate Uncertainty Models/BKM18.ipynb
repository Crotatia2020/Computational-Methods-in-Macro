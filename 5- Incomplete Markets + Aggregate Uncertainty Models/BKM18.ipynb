{
 "cells": [
  {
   "cell_type": "markdown",
   "metadata": {
    "collapsed": true,
    "pycharm": {
     "name": "#%% md\n"
    }
   },
   "source": [
    "## BKM (2018)\n",
    "\n",
    "- Author: Joao B. Duarte\n",
    "- Last Update: 23/11/2020"
   ]
  },
  {
   "cell_type": "markdown",
   "source": [
    "\"Exploiting MIT shocks in heterogeneous-agent economies: the impulse response as a numerical derivative\" by Boppart,\n",
    "Krusell and Mitman.\n",
    "\n",
    "- Assume model is linear (certainty equivalence holds)\n",
    "- Derive IRF based on nonlinear MIT-shock\n",
    "- **key idea**: if model is linear, can use Wold Decomposition which implies aggregate variables can be expressed as\n",
    "linear combination of past shocks:\n",
    "\n",
    "$$y_t = e_{z,t}\\gamma_0 + e_{z,t-1}\\gamma_1 + \\dots$$\n",
    "\n",
    "But $\\gamma$ are exactly the IRF coefficients.\n",
    "\n",
    "Hence, given one IRF, we can simulate all aggregates. (Turn IRF around!)"
   ],
   "metadata": {
    "collapsed": false,
    "pycharm": {
     "name": "#%% md\n"
    }
   }
  },
  {
   "cell_type": "markdown",
   "source": [
    "### KS revisited"
   ],
   "metadata": {
    "collapsed": false,
    "pycharm": {
     "name": "#%% md\n"
    }
   }
  },
  {
   "cell_type": "code",
   "execution_count": 4,
   "outputs": [],
   "source": [
    "# Import Libraries\n",
    "import numpy as np\n",
    "import scipy.optimize as opt\n",
    "from scipy.interpolate import interp1d\n",
    "from quantecon.markov import DiscreteDP\n",
    "import matplotlib.pyplot as plt\n",
    "from time import time\n",
    "from matplotlib import rc\n",
    "plt.style.use({'figure.facecolor':'white'})\n",
    "rc('text', usetex=True)\n",
    "%config InlineBackend.figure_format = 'retina'\n",
    "\n",
    "\n",
    "gamma = 2\n",
    "mu = 0.1\n",
    "alpha = 0.33\n",
    "phi = -1.0\n",
    "beta = 0.96\n",
    "delta = 0.05\n",
    "a_min = -3.0\n",
    "a_max = 18.0\n",
    "A = 1.0\n",
    "L = 1.0\n",
    "N = 100\n",
    "\n",
    "P = np.array([[0.9,0.1], [0.9, 0.1]])\n",
    "\n",
    "agrid = np.linspace(a_min,np.log(a_max-phi+1),N)\n",
    "a_vals = np.exp(agrid)+phi-1\n",
    "\n",
    "def rd(K, A = 1.0):\n",
    "    return A * alpha * (L / K)**(1 - alpha) - delta\n",
    "\n",
    "def r_to_w(r, A = 1.0):\n",
    "    \"\"\"\n",
    "    Equilibrium wages associated with a given interest rate r.\n",
    "    \"\"\"\n",
    "    return A * (1 - alpha) * (A * alpha / (r + delta))**(alpha / (1 - alpha))\n",
    "\n",
    "def policy(r0, w0, r1, w1):\n",
    "    ag1 = a_vals.copy()\n",
    "    ab1 = a_vals.copy()\n",
    "    ag = a_vals.copy()\n",
    "    ab = a_vals.copy()\n",
    "    metric = 1\n",
    "\n",
    "    while metric > 1e-6:\n",
    "\n",
    "        gg = interp1d(ag1, a_vals,  'linear', fill_value = 'extrapolate')\n",
    "        gb = interp1d(ab1, a_vals,  'linear',  fill_value = 'extrapolate')\n",
    "\n",
    "        Eg = beta*(1+r1)*( P[1,1]*(a_vals*(1+r1)+w1-np.maximum(gg(a_vals),phi))**(-gamma)+P[1,0]*(a_vals*(1+r1)+mu*w1-np.maximum(gb(a_vals),phi))**(-gamma) )\n",
    "        Eb = beta*(1+r1)*( P[0,1]*(a_vals*(1+r1)+w1-np.maximum(gg(a_vals),phi))**(-gamma)+P[0,0]*(a_vals*(1+r1)+mu*w1-np.maximum(gb(a_vals),phi))**(-gamma) )\n",
    "\n",
    "        ag1 = (Eg**(-1/gamma)-w0+a_vals)/(1+r0)\n",
    "        ab1 = (Eb**(-1/gamma)-mu*w0+a_vals)/(1+r0)\n",
    "\n",
    "        metric = np.array(([abs(ag1-ag),abs(ab1-ab)])).max()\n",
    "\n",
    "        ag = ag1\n",
    "        ab = ab1\n",
    "\n",
    "    return gg, gb\n",
    "\n",
    "\n",
    "def makeTransition_M(gg, gb):\n",
    "    a1g_star, a1b_star = np.maximum(gg(a_vals),phi), np.maximum(gb(a_vals),phi)\n",
    "    F = interp1d(a_vals,a_vals, kind = 'next', fill_value = a_vals[-1], bounds_error=False)\n",
    "    a1gd_star = F(np.maximum(gg(a_vals),phi))\n",
    "    a1bd_star = F(np.maximum(gb(a_vals),phi))\n",
    "\n",
    "    Tg = np.zeros([N,N])\n",
    "    Tb = np.zeros([N,N])\n",
    "\n",
    "    for i in range(N):\n",
    "\n",
    "        ixg = np.where(a_vals==a1gd_star[i])[0][0]\n",
    "        Tg[i,ixg] = 1-(a_vals[ixg]-a1g_star[i])/(a_vals[ixg]-a_vals[ixg-1])\n",
    "        if Tg[i,ixg] > 1:\n",
    "            Tg[i,ixg] = 1.0\n",
    "        Tg[i,ixg-1] = 1-Tg[i,ixg]\n",
    "\n",
    "        ixb = np.where(a_vals==a1bd_star[i])[0][0]\n",
    "        if ixb == 0:\n",
    "            Tb[i,ixb] = 1.0\n",
    "        else:\n",
    "            Tb[i,ixb] = 1-(a_vals[ixb]-a1b_star[i])/(a_vals[ixb]-a_vals[ixb-1])\n",
    "            if Tb[i,ixb] > 1:\n",
    "                Tb[i,ixb] = 1.0\n",
    "            Tb[i,ixb-1] = 1-Tb[i,ixb]\n",
    "    M = np.concatenate((np.concatenate((P[0,0]*Tb, P[0,1]*Tb), axis=1),np.concatenate((P[1,0]*Tg,P[1,1]*Tg), axis=1)), axis=0)\n",
    "    return M\n",
    "\n",
    "def GetStationaryDist(M):\n",
    "    eval,evec = np.linalg.eig(M.T)\n",
    "    i = np.argmin(np.abs(eval-1.0))\n",
    "    D = np.array(evec[:,i]).flatten()\n",
    "    assert np.max(np.abs(np.imag(D))) < 1e-6\n",
    "    D = np.real(D)  # just recasts as float\n",
    "    D = D/D.sum()\n",
    "    D[D<0]=0\n",
    "    return D/D.sum()\n",
    "\n",
    "def agr_capital(dist):\n",
    "    a_dist = dist[:N]+dist[N:]\n",
    "    return np.dot(a_vals.T, a_dist)\n",
    "\n",
    "def prices_to_capital(r):\n",
    "    gg, gb = policy(r, r_to_w(r), r, r_to_w(r))\n",
    "    M = makeTransition_M(gg,gb)\n",
    "    dist = GetStationaryDist(M)\n",
    "    K = agr_capital(dist)\n",
    "    return K\n",
    "\n",
    "def equilibrium_ss():\n",
    "    res = lambda K: K - prices_to_capital(rd(K))\n",
    "    Kss_certain =  ((1/beta-1+delta)/alpha)**(1./(alpha-1))\n",
    "    sol  = opt.root_scalar(res, bracket = [0.8*Kss_certain,1.2*Kss_certain], method = 'brentq').root\n",
    "    return sol\n",
    "\n",
    "\n",
    "def policy_back(r0, w0, r1, w1, gg, gb):\n",
    "\n",
    "    Eg = beta*(1+r1)*( P[1,1]*(a_vals*(1+r1)+w1-np.maximum(gg(a_vals),phi))**(-gamma)+P[1,0]*(a_vals*(1+r1)+mu*w1-np.maximum(gb(a_vals),phi))**(-gamma) )\n",
    "    Eb = beta*(1+r1)*( P[0,1]*(a_vals*(1+r1)+w1-np.maximum(gg(a_vals),phi))**(-gamma)+P[0,0]*(a_vals*(1+r1)+mu*w1-np.maximum(gb(a_vals),phi))**(-gamma) )\n",
    "\n",
    "    ag1 = (Eg**(-1/gamma)-w0+a_vals)/(1+r0)\n",
    "    ab1 = (Eb**(-1/gamma)-mu*w0+a_vals)/(1+r0)\n",
    "\n",
    "    gg1 = interp1d(ag1, a_vals,  'linear', fill_value = 'extrapolate')\n",
    "    gb1 = interp1d(ab1, a_vals,  'linear',  fill_value = 'extrapolate')\n",
    "\n",
    "    return gg1, gb1"
   ],
   "metadata": {
    "collapsed": false,
    "pycharm": {
     "name": "#%%\n"
    }
   }
  },
  {
   "cell_type": "markdown",
   "source": [
    "### Find Stationary Equilibrium"
   ],
   "metadata": {
    "collapsed": false
   }
  },
  {
   "cell_type": "code",
   "execution_count": 5,
   "outputs": [
    {
     "name": "stdout",
     "output_type": "stream",
     "text": [
      "Equilibrium capital is 7.044756293424861\n"
     ]
    }
   ],
   "source": [
    "Kss = equilibrium_ss()\n",
    "print(f'Equilibrium capital is {Kss}')"
   ],
   "metadata": {
    "collapsed": false,
    "pycharm": {
     "name": "#%%\n"
    }
   }
  },
  {
   "cell_type": "code",
   "execution_count": 6,
   "outputs": [],
   "source": [
    "r = rd(Kss)\n",
    "w = r_to_w(r)\n",
    "gg, gb = policy(r, w, r, w)\n",
    "M = makeTransition_M(gg, gb)\n",
    "dist = GetStationaryDist(M)\n"
   ],
   "metadata": {
    "collapsed": false,
    "pycharm": {
     "name": "#%%\n"
    }
   }
  },
  {
   "cell_type": "code",
   "execution_count": 7,
   "outputs": [],
   "source": [
    "s = 70\n",
    "# AR(1) process for TFP\n",
    "def A1(z, rho=0.5):\n",
    "    return (1-rho) + z*rho\n",
    "As = [1.01]\n",
    "for i in range(1,s+1):\n",
    "    As.append(A1(As[i-1]))\n",
    "As = np.array(As)"
   ],
   "metadata": {
    "collapsed": false,
    "pycharm": {
     "name": "#%%\n"
    }
   }
  },
  {
   "cell_type": "code",
   "execution_count": 9,
   "outputs": [
    {
     "name": "stdout",
     "output_type": "stream",
     "text": [
      "Computing MIT-shock IRF...\n",
      "\n",
      " ...done!\n"
     ]
    }
   ],
   "source": [
    "# Guess K sequence\n",
    "K0s = np.ones(s+1)*Kss\n",
    "gg_ss, gb_ss = policy(rd(Kss), r_to_w(rd(Kss)), rd(Kss), r_to_w(rd(Kss)))\n",
    "\n",
    "def update_agreggates(K0s):\n",
    "    # Update Prices\n",
    "    rs = rd(K0s, As)\n",
    "    ws = r_to_w(rs, As)\n",
    "\n",
    "    # Update Policies\n",
    "    ggs = [None]*s\n",
    "    ggs.insert(s, gg_ss)\n",
    "\n",
    "    gbs = [None]*s\n",
    "    gbs.insert(s, gb_ss)\n",
    "\n",
    "    for i in range(s,0,-1):\n",
    "        r1 = rd(K0s[i], As[i])\n",
    "        r0 = rd(K0s[i-1], As[i-1])\n",
    "        w1 = r_to_w(r1, As[i])\n",
    "        w0 = r_to_w(r0, As[i-1])\n",
    "        gg1, gb1 = policy_back(r0, w0, r1, w1, ggs[i], gbs[i])\n",
    "        ggs[i-1] = gg1\n",
    "        gbs[i-1] = gb1\n",
    "\n",
    "    Ms = [None]*s\n",
    "\n",
    "    for i in range(0,s,1):\n",
    "        Ms[i]= makeTransition_M(ggs[i], gbs[i])\n",
    "\n",
    "    # Update Distributions\n",
    "    dists = [None]*(s+1)\n",
    "    dists[0] = dist\n",
    "\n",
    "    for i in range(1,s+1):\n",
    "        dists[i] = np.dot(Ms[i-1].T,dists[i-1].reshape((200,1)))\n",
    "\n",
    "    K1s = [None]*s\n",
    "    K1s.insert(s, Kss)\n",
    "\n",
    "    for i in range(0,s,1):\n",
    "        K1s[i] = agr_capital(dists[i+1])[0]\n",
    "\n",
    "    return np.array(K1s), ggs, gbs, dists\n",
    "\n",
    "def equilibrium_trans(Kguess):\n",
    "    dif = 1\n",
    "    print('Computing MIT-shock IRF...')\n",
    "    while dif>1e-6:\n",
    "        aggK, ggs, gbs, dists = update_agreggates(Kguess)\n",
    "        dif = np.amax(abs(aggK - Kguess))\n",
    "        Kguess = 0.2*aggK + 0.8*Kguess\n",
    "    print('\\n ...done!')\n",
    "    return aggK, ggs, gbs, dists\n",
    "\n",
    "aggK, ggs, gbs, dists = equilibrium_trans(K0s)\n"
   ],
   "metadata": {
    "collapsed": false,
    "pycharm": {
     "name": "#%%\n"
    }
   }
  },
  {
   "cell_type": "markdown",
   "source": [
    "### Simulate!\n"
   ],
   "metadata": {
    "collapsed": false,
    "pycharm": {
     "name": "#%% md\n"
    }
   }
  },
  {
   "cell_type": "code",
   "execution_count": 50,
   "outputs": [],
   "source": [
    "T = 1000\n",
    "shocks = np.random.uniform(-1, 1, T)\n",
    "\n",
    "Ks = np.ones(T-s)\n",
    "for i in range(0,T-70):\n",
    "    Ks[i] = np.dot(shocks[i:i+71],(aggK[::-1]-Kss))"
   ],
   "metadata": {
    "collapsed": false,
    "pycharm": {
     "name": "#%%\n"
    }
   }
  },
  {
   "cell_type": "code",
   "execution_count": 51,
   "outputs": [
    {
     "data": {
      "text/plain": "<Figure size 432x288 with 1 Axes>",
      "image/png": "[encoded data removed]"
     },
     "metadata": {
      "image/png": {
       "width": 368,
       "height": 247
      }
     },
     "output_type": "display_data"
    }
   ],
   "source": [
    "plt.plot(np.arange(len(Ks)), (1+Ks)*Kss)\n",
    "plt.plot(np.arange(len(Ks)), Kss*np.ones(len(Ks)))\n",
    "plt.show()"
   ],
   "metadata": {
    "collapsed": false,
    "pycharm": {
     "name": "#%%\n"
    }
   }
  },
  {
   "cell_type": "code",
   "execution_count": 29,
   "outputs": [],
   "source": [],
   "metadata": {
    "collapsed": false,
    "pycharm": {
     "name": "#%%\n"
    }
   }
  }
 ],
 "metadata": {
  "kernelspec": {
   "display_name": "Python 3",
   "language": "python",
   "name": "python3"
  },
  "language_info": {
   "codemirror_mode": {
    "name": "ipython",
    "version": 2
   },
   "file_extension": ".py",
   "mimetype": "text/x-python",
   "name": "python",
   "nbconvert_exporter": "python",
   "pygments_lexer": "ipython2",
   "version": "2.7.6"
  }
 },
 "nbformat": 4,
 "nbformat_minor": 0
}