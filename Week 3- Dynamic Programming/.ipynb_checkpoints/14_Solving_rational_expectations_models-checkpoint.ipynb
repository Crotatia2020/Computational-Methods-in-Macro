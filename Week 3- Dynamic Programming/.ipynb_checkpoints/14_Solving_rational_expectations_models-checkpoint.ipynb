{
 "cells": [
  {
   "cell_type": "markdown",
   "metadata": {},
   "source": [
    "# Solving Rational Expectations Models"
   ]
  },
  {
   "cell_type": "markdown",
   "metadata": {},
   "source": [
    "Assuming the economic model at hand has a recursive structure, we can turn a sequential problem (SP) into a functional equation (FE). Intuitively, this reformulation of the problem allow us to turn a problem of finding a solution to infinite unkowns in an infinite number of equations (SP), into a problem of finding a finite number of functions in an infinite function space (FE)."
   ]
  },
  {
   "cell_type": "markdown",
   "metadata": {},
   "source": [
    "### Value Function"
   ]
  },
  {
   "cell_type": "markdown",
   "metadata": {},
   "source": [
    "Let $x$ be the deterministic state space and $s$ stochastic state space: \n",
    "\n",
    "- **Deterministic case**\n",
    "$$ V (x) = \\max_{x^\\prime} [u(x, x^\\prime) + \\beta V (x^\\prime)]  $$\n",
    "\n",
    "This value function has an associated decision rule $g : R^+ \\rightarrow R^+: x^\\prime =g(x)$\n",
    "\n",
    "- **Stochastic case**\n",
    "$$ V (x, s) = \\max_{x^\\prime} [u(x, x^\\prime, s) + \\beta E_{s^\\prime} V (x^\\prime, s^\\prime)]  $$\n",
    "\n",
    "This value function has an associated decision rule $g : R^+ \\times R \\rightarrow R^+: x^\\prime =g(x, s)$"
   ]
  },
  {
   "cell_type": "markdown",
   "metadata": {},
   "source": [
    "Expressing the model as a value function problem is convenient for several reasons. First, we have many results about the properties of value functions and the decision rules associated with them (for example, regarding their differentiability). These results can be put to good use both in the economic analysis of the problem and in the design of numerical methods. The second reason is that, as a default, we can use value function iteration (explained later in the notebook), a solution method that is particularly reliable, although often slow."
   ]
  },
  {
   "cell_type": "markdown",
   "metadata": {},
   "source": [
    "### Euler Equation (FOCs)\n",
    "\n",
    "We have outlined several reasons why casting the problem in terms of a value function is attractive. Unfortunately, this formulation can be difficult. If the model does not satisfy the two fundamental welfare theorems, we cannot easily move between the social planner’s problem and the competitive equilibrium. In that case, also, the value function of the household and firms will require laws of motion for individual and aggregate state variables that can be challenging to characterize."
   ]
  },
  {
   "cell_type": "markdown",
   "metadata": {},
   "source": [
    "An alternative is to work directly with the set of equilibrium conditions of the model. These include the first-order conditions for households, firms, and, if specified, government, budget and resource constraints, market clearing conditions, and laws of motion for exoge- nous processes. Since, at the core of these equilibrium conditions, we will have the Euler equations for the agents in the model that encode optimal behavior (with the other condi- tions being somewhat mechanical), this approach is commonly known as the Euler equation method (sometimes also referred to as solving the equilibrium conditions of the models). This solution strategy is extremely general and it allows us to handle non-Pareto efficient economies without further complications."
   ]
  },
  {
   "cell_type": "markdown",
   "metadata": {},
   "source": [
    "\n",
    "In general, when using the first order conditions only, our functional equations, with $x$ being the state space and $x^\\prime=g(x)$ the optimal policy function, boil down to something like:\n",
    "\n",
    "- **Deterministic case**\n",
    "\n",
    "$$ f(x, g(x), g(g(x))) = 0 $$\n",
    "\n",
    "- **Stochastic case**\n",
    "\n",
    "$$ E_{s^\\prime} [f(x, g(x,s), g(g(x,s), s^\\prime), s, s^\\prime)] = 0 $$"
   ]
  },
  {
   "cell_type": "markdown",
   "metadata": {},
   "source": [
    "## Solving Functional Equations Cast In Discrete Time\n",
    "\n",
    "- Log-linear approximation (Local)\n",
    "    - Then use one of the following ways to solve a **linear** rational expectation model:\n",
    "        - Blanchard and Khan (coupling/decoupling)\n",
    "        - Sims (coupling/decoupling exploring expectations errors)\n",
    "        - Ulig (undetermined coefficients)\n",
    "        \n",
    "- Perturbation (Local, we will note cover this, Dynare great at performing this approach)\n",
    "\n",
    "- Iterative (Global)\n",
    "    - Value function iteration\n",
    "    - Policy function iteration\n",
    "    \n",
    "- Projection (Global)"
   ]
  },
  {
   "cell_type": "markdown",
   "metadata": {},
   "source": [
    "There are some advantages and disadvantages in using each approach. The selection of an approach should depend on the specific application."
   ]
  },
  {
   "cell_type": "markdown",
   "metadata": {},
   "source": [
    "## Baby Example: Nonstochastic RBC Model"
   ]
  },
  {
   "cell_type": "markdown",
   "metadata": {},
   "source": [
    "$$\\max_{C_t,K_{t+1}} E_0 \\sum_{t=0}^\\infty \\beta^t \\frac{C_t^{1-\\sigma}}{1-\\sigma}$$\n",
    "\n",
    "subject to:\n",
    "\n",
    "$$ C_t + K_{t+1} - (1-\\delta)K_t = K_t^\\alpha  $$\n",
    "$$ K_0 \\text{ given}$$"
   ]
  },
  {
   "cell_type": "markdown",
   "metadata": {},
   "source": [
    "#### Value Function or Euler Equation?\n",
    "\n",
    "Since both fundamental welfare theorems hold in this economy, we can jump between the social planner’s problem and the competitive equilibrium according to which approach is more convenient in each moment. In general, this would not be possible, and some care is required to stay on either the equilibrium problem or the social planner’s problem according to the goals of the exercise."
   ]
  },
  {
   "cell_type": "markdown",
   "metadata": {},
   "source": [
    "FOC:\n",
    "\n",
    "$$ C_t^{-\\sigma} - \\beta C_{t+1}^{-\\sigma} [\\alpha K_{t+1}^{\\alpha-1} + (1-\\delta)]$$"
   ]
  },
  {
   "cell_type": "markdown",
   "metadata": {},
   "source": [
    "Which after replacing the budget constraint becomes:\n",
    "\n",
    "$$ [K_t^\\alpha - K_{t+1} + (1-\\delta)K_t]^{-\\sigma} - \\beta [K_{t+1}^\\alpha - K_{t+2} + (1-\\delta)K_{t+1}]^{-\\sigma} [\\alpha K_{t+1}^{\\alpha-1} + (1-\\delta)]$$\n",
    "\n",
    "Hence, we have:\n",
    "\n",
    "\n",
    "$$ f(K_t, K_{t+1}, K_{t+2}) = 0 $$   for $ t = 0,1,2,... $ with $K_0$ given.\n",
    "\n",
    "If the problem has a recursive nature, we will have a time invariant optimal policy function: $K_{t+1} = g(K_t)$ such that:\n",
    "\n",
    "$$ f(K_t, g(K_{t}), g(g(K_{t}))) = 0 $$\n",
    "for all $K_t$\n"
   ]
  },
  {
   "cell_type": "markdown",
   "metadata": {},
   "source": [
    "- With only a few rare exceptions this is very hard to solve exactly – Easy cases:\n",
    "    - If $\\sigma = 1$ , $\\delta = 1$ $\\Rightarrow$ $g ( K_t ) = \\alpha \\beta K_t^\\alpha $.\n",
    "    - If $f$ is linear in $K_t, K_{t+1}, K_{t+2}$."
   ]
  },
  {
   "cell_type": "markdown",
   "metadata": {},
   "source": [
    "### Exercise 1.\n",
    "\n",
    "Solve the baby Nonstochastic RBC model using a loglinear approximation around the steady state. \n",
    "\n",
    "a. Solve for the steady state\n",
    "\n",
    "b. Loglinearize the first order condition around the steady state\n",
    "\n",
    "c. Use the undetermined coefficients approach\n",
    "\n",
    "d. Given $K_0 = 0.1*K^{ss}$, $\\delta = 0.05$, $\\alpha = 0.3$, $\\beta= 0.99$ and $\\sigma = 1.5$, simulate the model for 20 periods.\n",
    "\n",
    "e. Simulate the model instead with $\\delta = 1$, $\\alpha = 0.3$, $\\beta= 0.99$ and $\\sigma = 1$ for 20 periods and compare it with the simulation coming from the exact solution: $g ( K_t ) = \\alpha \\beta K_t^\\alpha$. Also, compare the policy functions of the exaxt solution with the loglinae approximation in a plot.\n"
   ]
  },
  {
   "cell_type": "markdown",
   "metadata": {},
   "source": [
    "## Harder Example:  Stochastic Real Business Cycle Model with Leisure and many Shocks"
   ]
  },
  {
   "cell_type": "markdown",
   "metadata": {},
   "source": [
    "This notebook illustrates how to solve an extended version of the real business cycle model, where on top of the standard labor augmenting technology shocks, there are also shocks to the labor/leisure choice, the Euler equation and where government expenditures are stochastic. This is the prototype economy in Chari, Kehoe and McGrattan (2007) Business Cycle Accounting.\n",
    "\n",
    "In the following, we use italics for scalars, lowercase bold for vectors and uppercase bold for matrices."
   ]
  },
  {
   "cell_type": "markdown",
   "metadata": {},
   "source": [
    "### Model"
   ]
  },
  {
   "cell_type": "markdown",
   "metadata": {},
   "source": [
    "Suppose households own the capital stock and rent it out at rate $r_t$. They also work for wages at rate $w_t$ per unit of labor input. The problem is to solve:"
   ]
  },
  {
   "cell_type": "markdown",
   "metadata": {},
   "source": [
    "$$\\max_{c_t,x_t,l_t} E_0 \\sum_{t=0}^\\infty \\beta^t u(c_t,1-l_t)n_t$$"
   ]
  },
  {
   "cell_type": "markdown",
   "metadata": {},
   "source": [
    "subject to:"
   ]
  },
  {
   "cell_type": "markdown",
   "metadata": {},
   "source": [
    "\\begin{align}\n",
    "c_t+(1+\\tau_{xt})x_t&=r_tk_t+(1-\\tau_{lt})w_tl_t+t_t \\\\\n",
    "n_{t+1}k_{t+1}&=[(1-\\delta)k_t+x_t]n_t \\\\\n",
    "c_t&\\geq 0, \\forall t\n",
    "\\end{align}"
   ]
  },
  {
   "cell_type": "markdown",
   "metadata": {},
   "source": [
    "Transfers are residually determined and made lump-sum after government expenditures have been incurred. Lowercase variables define per-capita quantitites, and $n_t$, is the population level at time $t$.\n",
    "\n",
    "Firms are competitive and solve:"
   ]
  },
  {
   "cell_type": "markdown",
   "metadata": {},
   "source": [
    "$$\\max_{k_t,l_t} F(k_t,\\phi_tl_t)-r_tk_t-w_tl_t$$"
   ]
  },
  {
   "cell_type": "markdown",
   "metadata": {},
   "source": [
    "Finally, the resource constraint for the economy is given by:"
   ]
  },
  {
   "cell_type": "markdown",
   "metadata": {},
   "source": [
    "$$c_t+x_t+g_t=y_t$$"
   ]
  },
  {
   "cell_type": "markdown",
   "metadata": {},
   "source": [
    "Suppose the following functional forms are used for preferences"
   ]
  },
  {
   "cell_type": "markdown",
   "metadata": {},
   "source": [
    "$$U\\{c_t,l_t\\}_0^\\infty = E_0 \\sum_{t=0}^\\infty \\beta^t [\\ln c_t+\\psi \\ln(1-l_t)]n_t$$"
   ]
  },
  {
   "cell_type": "markdown",
   "metadata": {},
   "source": [
    "and technology"
   ]
  },
  {
   "cell_type": "markdown",
   "metadata": {},
   "source": [
    "$$F(k_t,\\phi l_t)=k^\\theta_t(z_t(1+g_z)^tl_t)^{1-\\theta}, \\ln z_t \\sim N(0,1).$$"
   ]
  },
  {
   "cell_type": "markdown",
   "metadata": {},
   "source": [
    "### Functional Forms and Detrending"
   ]
  },
  {
   "cell_type": "markdown",
   "metadata": {},
   "source": [
    "The utility function in detrended terms, is then given by"
   ]
  },
  {
   "cell_type": "markdown",
   "metadata": {},
   "source": [
    "$$U\\{\\hat{c}_t,l_t\\}_0^\\infty = E_0 \\sum_{t=0}^\\infty \\beta^t [\\ln \\hat{c}_t+\\psi \\ln(1-l_t)+\\ln(1+\\gamma)^t]n_t$$"
   ]
  },
  {
   "cell_type": "markdown",
   "metadata": {},
   "source": [
    "where the notation for detrended variables follows $\\hat{c}_t=\\frac{c_t}{(1+\\gamma)^t}$ and we assume that $n_{t+1}=(1+g_n)n_t$."
   ]
  },
  {
   "cell_type": "markdown",
   "metadata": {},
   "source": [
    "The household budget constraint becomes"
   ]
  },
  {
   "cell_type": "markdown",
   "metadata": {},
   "source": [
    "$$\\hat{c}_t+(1+\\tau_{xt})\\hat{x}_t = r_t\\hat{k}_t+(1-\\tau_{lt})\\hat{w}_tl_t+\\hat{\\phi}_t$$"
   ]
  },
  {
   "cell_type": "markdown",
   "metadata": {},
   "source": [
    "where $\\hat{\\phi}_t$ representes per-capita detrended government transfers."
   ]
  },
  {
   "cell_type": "markdown",
   "metadata": {},
   "source": [
    "The production function is also detrended and expressed in per-capita terms"
   ]
  },
  {
   "cell_type": "markdown",
   "metadata": {},
   "source": [
    "$$\\hat{y}=\\hat{k}^\\theta_t(z_tl_t)^{1-\\theta}$$"
   ]
  },
  {
   "cell_type": "markdown",
   "metadata": {},
   "source": [
    "and consequently wages and the rental price of capital are the solution to the same problem"
   ]
  },
  {
   "cell_type": "markdown",
   "metadata": {},
   "source": [
    "$$\\max_{\\hat{k}_t,l_t} \\hat{k}^\\theta_t(z_tl_t)^{1-\\theta}-r_tk_t-w_tl_t$$"
   ]
  },
  {
   "cell_type": "markdown",
   "metadata": {},
   "source": [
    "Note also the capital accumulation equation in per-capita, detrended terms:"
   ]
  },
  {
   "cell_type": "markdown",
   "metadata": {},
   "source": [
    "$$(1+n)(1+\\gamma)\\hat{k}_{t+1}=\\hat{x}_t+(1-\\delta)\\hat{k}_t$$"
   ]
  },
  {
   "cell_type": "markdown",
   "metadata": {},
   "source": [
    "### Optimization"
   ]
  },
  {
   "cell_type": "markdown",
   "metadata": {},
   "source": [
    "The firms problem stated previously leads to the following first order conditions"
   ]
  },
  {
   "cell_type": "markdown",
   "metadata": {},
   "source": [
    "\\begin{align}\n",
    "r_t &=\\theta\\hat{k}_t^{\\theta-1}(z_tl_t)^{1-\\theta} \\\\\n",
    "\\hat{w}_t &=(1-\\theta)z_t\\hat{k}_t^\\theta(z_tl_t)^{-\\theta}\n",
    "\\end{align}"
   ]
  },
  {
   "cell_type": "markdown",
   "metadata": {},
   "source": [
    "In order to set up the Lagrangian function for the representative household problem, I will first solve the capital accumulation equation for $\\hat{x}_t$"
   ]
  },
  {
   "cell_type": "markdown",
   "metadata": {},
   "source": [
    "$$\\hat{x}_t=(1+n)(1+\\gamma)\\hat{k}_{t+1}-(1-\\delta)\\hat{k}_t$$"
   ]
  },
  {
   "cell_type": "markdown",
   "metadata": {},
   "source": [
    "and substitute it in the household budget constraint to get:"
   ]
  },
  {
   "cell_type": "markdown",
   "metadata": {},
   "source": [
    "$$\\hat{c}_t+(1+\\tau_{xt})[(1+n)(1+\\gamma)\\hat{k}_{t+1}-(1-\\delta)\\hat{k}_t] = r_t\\hat{k}_t+(1-\\tau_{lt})\\hat{w}_tl_t+\\hat{\\phi}_t$$"
   ]
  },
  {
   "cell_type": "markdown",
   "metadata": {},
   "source": [
    "It is now time to set up the Lagrangian for the househehold problem. I now drop the $\\ln (1+\\gamma)^t$ from preferences since doing so, the preference ordering is not altered."
   ]
  },
  {
   "cell_type": "markdown",
   "metadata": {},
   "source": [
    "$$L^{HH}=E_0 \\sum_{t=0}^\\infty \\beta^t \\left\\{ [\\ln{\\hat{c}_t}+\\psi\\ln(1-l_t)]n_t+\\lambda_t\\left\\{r_t\\hat{k}_t+(1-\\tau_{lt})\\hat{w}_tl_t+\\hat{\\phi}_t-\\hat{c}_t-(1+\\tau_{xt})[(1+n)(1+\\gamma)\\hat{k}_{t+1}-(1-\\delta)\\hat{k}_t]\\right\\} \\right\\}$$"
   ]
  },
  {
   "cell_type": "markdown",
   "metadata": {},
   "source": [
    "The Inada conditions are fulfilled for the above functional forms and assumptions and, together with the appropriate no-Maddoff and transversality conditions, the solution is defined by taking the necessary first order conditions w.r.t. consumption, capital and labor."
   ]
  },
  {
   "cell_type": "markdown",
   "metadata": {},
   "source": [
    "### First Order Conditions"
   ]
  },
  {
   "cell_type": "markdown",
   "metadata": {},
   "source": [
    "\\begin{align}\n",
    "\\hat{c}_t &: \\frac{1}{\\hat{c}_t}n_t=\\lambda_t \\\\\n",
    "l_t &: \\frac{\\psi}{1-l_t}n_t=(1-\\tau_{lt})\\hat(w)_t\\lambda_t \\\\\n",
    "\\hat{k}_{t+1} &: \\lambda_t(1+\\tau_{xt}(1+n)(1+\\gamma)=\\beta E_t\\lambda_{t+1}[r_{t+1}-(1+\\tau_{xt})(1-\\delta)]\n",
    "\\end{align}"
   ]
  },
  {
   "cell_type": "markdown",
   "metadata": {},
   "source": [
    "From the firm's first order conditions, remember that $\\hat{w}_t =(1-\\theta)z_t\\hat{k}_t^\\theta(z_tl_t)^{-\\theta}$, so together with the first two equations, we get the labor-leisure equation"
   ]
  },
  {
   "cell_type": "markdown",
   "metadata": {},
   "source": [
    "$$\\frac{\\psi\\hat{c}_t}{1-l_t}=(1-\\tau_{lt})(1-\\theta)z_t\\hat{k}_t^\\theta(z_tl_t)^{-\\theta}$$"
   ]
  },
  {
   "cell_type": "markdown",
   "metadata": {},
   "source": [
    "The intertemporal condition or Euler equation reads"
   ]
  },
  {
   "cell_type": "markdown",
   "metadata": {},
   "source": [
    "$$\\frac{1}{\\hat{c}_t}(1+\\tau_{xt})=\\hat{\\beta}E_t\\left\\{\\frac{1}{\\hat{c}_{t+1}}[r_{t+1}-(1-\\tau_{x,t+1})(1-\\delta)]\\right\\}$$"
   ]
  },
  {
   "cell_type": "markdown",
   "metadata": {},
   "source": [
    "where I used the firm's f.o.c. w.r.t. capital and defined $\\hat{\\beta}=\\frac{\\beta}{1+\\gamma}$."
   ]
  },
  {
   "cell_type": "markdown",
   "metadata": {},
   "source": [
    "The model is closed and the solution implicitely defined by adding the households resource constraint to the set of equations defining the optimum"
   ]
  },
  {
   "cell_type": "markdown",
   "metadata": {},
   "source": [
    "$$\\hat{c}_t+(1+\\tau_{xt})[(1+n)(1+\\gamma)\\hat{k}_{t+1}-(1-\\delta)\\hat{k}_t] +\\hat{g}_t=\\hat{y}_t$$"
   ]
  },
  {
   "cell_type": "markdown",
   "metadata": {},
   "source": [
    "### Steady State Computation"
   ]
  },
  {
   "cell_type": "markdown",
   "metadata": {},
   "source": [
    "In the steady state, the Euler equation is given by"
   ]
  },
  {
   "cell_type": "markdown",
   "metadata": {},
   "source": [
    "$$(1+\\tau_x)=\\hat{\\beta}[r-(1-\\tau_x)(1-\\delta)]$$"
   ]
  },
  {
   "cell_type": "markdown",
   "metadata": {},
   "source": [
    "Solving this w.r.t. $r$ gives"
   ]
  },
  {
   "cell_type": "markdown",
   "metadata": {},
   "source": [
    "$$r=\\frac{(1+\\tau_x)[1-\\hat{\\beta}(1-\\delta)]}{\\hat{\\beta}}$$"
   ]
  },
  {
   "cell_type": "markdown",
   "metadata": {},
   "source": [
    "Remember that $r=\\hat{k}^{\\theta-1}(zl)^{1-\\theta}$ so that"
   ]
  },
  {
   "cell_type": "markdown",
   "metadata": {},
   "source": [
    "\\begin{align}\n",
    "\\hat{k}=\\left\\{\\frac{(1+\\tau_x)[1-\\hat{\\beta}(1-\\delta)]}{\\theta\\hat{\\beta}}\\right\\}^{\\frac{1}{\\theta-1}}zl\n",
    "\\end{align}"
   ]
  },
  {
   "cell_type": "markdown",
   "metadata": {},
   "source": [
    "Let $A$ and $B$ be"
   ]
  },
  {
   "cell_type": "markdown",
   "metadata": {},
   "source": [
    "\\begin{align}\n",
    "A &=\\left\\{\\frac{z}{\\frac{\\hat{k}}{l}}\\right\\}^{1-\\theta} -(1-\\gamma)(1+n)+(1-\\delta)\\\\\n",
    "B &=\\frac{(1-\\tau_l)(1-\\theta)\\left\\{\\frac{\\hat{k}}{l}\\right\\}^\\theta z^{1-\\theta}}{\\psi}\n",
    "\\end{align}\n"
   ]
  },
  {
   "cell_type": "markdown",
   "metadata": {},
   "source": [
    "Then"
   ]
  },
  {
   "cell_type": "markdown",
   "metadata": {},
   "source": [
    "\\begin{align} \n",
    "\\hat{k} &=\\frac{B+g}{A+\\frac{B}{\\frac{\\hat{k}}{l}}} \\\\\n",
    "\\hat{c} &=A\\hat{k}-g \\\\\n",
    "l &= \\frac{\\hat{k}}{\\frac{\\hat{k}}{l}} \\\\\n",
    "\\hat{y} &=\\hat{k}^\\theta(zl)^{1-\\theta} \\\\\n",
    "\\hat{x} &=\\hat{y}-\\hat{c}-\\hat{g}\n",
    "\\end{align}"
   ]
  },
  {
   "cell_type": "markdown",
   "metadata": {},
   "source": [
    "### The stochastic nonlinear second order difference equation in capital"
   ]
  },
  {
   "cell_type": "markdown",
   "metadata": {},
   "source": [
    "First we can rearrange the resource constraint to get consumption explicitely as a function of capital and labor i.e. $\\hat{c}(\\hat{k}_t,\\hat{k}_{t+1},l_t,\\mathbf{s}_t)$."
   ]
  },
  {
   "cell_type": "markdown",
   "metadata": {},
   "source": [
    "Then,using this function with the intratemporal condition, we can define labor implicitely as a function of capital i.e. $l_t(\\hat{k}_t,\\hat{k}_{t+1},\\mathbf{s}_t)$."
   ]
  },
  {
   "cell_type": "markdown",
   "metadata": {},
   "source": [
    "Finally, making use of these two functions, we can write the intertemporal condition as "
   ]
  },
  {
   "cell_type": "markdown",
   "metadata": {},
   "source": [
    "$$ E_t\\left\\{F(\\hat{k}_{t+2},\\hat{k}_{t+1},\\hat{k}_t,\\mathbf{s_t})\\right\\}=0$$"
   ]
  },
  {
   "cell_type": "markdown",
   "metadata": {},
   "source": [
    "This is the implicit formulation of the equilibrium solution for this economy."
   ]
  },
  {
   "cell_type": "markdown",
   "metadata": {},
   "source": [
    "We are going to approximate this non-linear stochastic second order difference equation with the log-linear specification"
   ]
  },
  {
   "cell_type": "markdown",
   "metadata": {},
   "source": [
    "\\begin{equation*}\n",
    "E_t \\left\\{a_0 \\ln\\hat{k}_{t+2}+a_1\\ln\\hat{k}_{t+1}+a_2\\ln\\hat{k}_t+\\mathbf{b}_0'\\mathbf{s}_{t+1}+\\mathbf{b}_1'\\mathbf{s}_t\\right\\}=0\n",
    "\\end{equation*}"
   ]
  },
  {
   "cell_type": "markdown",
   "metadata": {},
   "source": [
    "### Log-Linear approximation to the policy functions"
   ]
  },
  {
   "cell_type": "markdown",
   "metadata": {},
   "source": [
    "The aim now is to find a log-linear approximation to the solution of the form"
   ]
  },
  {
   "cell_type": "markdown",
   "metadata": {},
   "source": [
    "\\begin{equation}\n",
    "\\ln\\hat{k}_{t+1}=\\gamma_k\\ln \\hat{k}_t+\\mathbf{\\gamma}'\\mathbf{s}_t+\\mathbf{\\gamma}_0'  \n",
    "\\end{equation}"
   ]
  },
  {
   "cell_type": "markdown",
   "metadata": {},
   "source": [
    "where"
   ]
  },
  {
   "cell_type": "markdown",
   "metadata": {},
   "source": [
    "\\begin{equation*}\n",
    "\\mathbf{s}_t = [\\begin{matrix}\\ln z_t & \\tau_{lt} & \\tau_{xt} & \\ln g_t]\\end{matrix}\n",
    "\\end{equation*}"
   ]
  },
  {
   "cell_type": "markdown",
   "metadata": {},
   "source": [
    "We assume"
   ]
  },
  {
   "cell_type": "markdown",
   "metadata": {},
   "source": [
    "\\begin{equation*}\n",
    "\\mathbf{s}_{t+1}=\\mathbf{P}\\mathbf{s}_t+\\mathbf{p}_0+\\epsilon_{t+1}\n",
    "\\end{equation*}"
   ]
  },
  {
   "cell_type": "markdown",
   "metadata": {},
   "source": [
    "with $\\epsilon_t \\sim N(\\mathbf{0},\\mathbf{Q}'\\mathbf{Q})$."
   ]
  },
  {
   "cell_type": "markdown",
   "metadata": {},
   "source": [
    "We now use these policy function approximations in the log-linear version of the approximation to the solution "
   ]
  },
  {
   "cell_type": "markdown",
   "metadata": {},
   "source": [
    "\\begin{equation}\n",
    "E_t \\left\\{\n",
    "a_0(\\gamma_k \\ln\\hat{k}_{t+1}+\\mathbf{\\gamma}'\\mathbf{s}_{t+1})\n",
    "+a_1(\\gamma_k\\ln\\hat{k}_t+\\mathbf{\\gamma}'\\mathbf{s}_t)\n",
    "+a_2\\ln\\hat{k}_t\n",
    "+\\mathbf{b}'_0\\mathbf{s}_{t+1}\n",
    "+\\mathbf{b}'_1\\mathbf{s}_t\n",
    "\\right\\}=0\n",
    "\\end{equation}"
   ]
  },
  {
   "cell_type": "markdown",
   "metadata": {},
   "source": [
    "The left-hand side can only be zero (in general) if $\\gamma_k$ and $\\mathbf{\\gamma}$ satisfy the following system of equations"
   ]
  },
  {
   "cell_type": "markdown",
   "metadata": {},
   "source": [
    "$$\\cases{\n",
    "a_0\\gamma^2_k+a_1\\gamma_k+a_2=0 \\cr\n",
    "a_0\\gamma_k\\mathbf{\\gamma}\\mathbf{P}+a_1\\mathbf{\\gamma}+\\mathbf{b}'_0\\mathbf{P}+\\mathbf{b}'_1 = \\mathbf{0}\n",
    "}$$\n"
   ]
  },
  {
   "cell_type": "markdown",
   "metadata": {},
   "source": [
    "Because of the quadratic equation in $\\gamma_k$, there will be two solutions for this system that are $1/\\sqrt \\beta$ reciprocals."
   ]
  },
  {
   "cell_type": "markdown",
   "metadata": {},
   "source": [
    "The transversality condition imposes an upper bound for captal and therefore the solution to be chosen is the one associated with the root that is lower than $1 / \\sqrt \\beta$. Then"
   ]
  },
  {
   "cell_type": "markdown",
   "metadata": {},
   "source": [
    "$$\\mathbf{\\gamma}=-[(a_0\\gamma_k+a_1)\\mathbf{I}_{4\\times4}+a_0\\mathbf{P}']^{-1}(\\mathbf{b}'_0\\mathbf{P}+\\mathbf{b}'_1\\mathbf{I}_{4 \\times 4})'$$"
   ]
  },
  {
   "cell_type": "markdown",
   "metadata": {},
   "source": [
    "Once known the values of $\\mathbf{\\gamma}$ and $\\gamma_k$, $\\gamma_0$ is given by using the steady state values"
   ]
  },
  {
   "cell_type": "markdown",
   "metadata": {},
   "source": [
    "$$\\gamma_0=(1-\\gamma_k)\\ln\\hat{k}-\\mathbf{\\gamma}'\\mathbf{s}$$"
   ]
  },
  {
   "cell_type": "markdown",
   "metadata": {
    "collapsed": true
   },
   "source": [
    "### Exercise 2."
   ]
  },
  {
   "cell_type": "markdown",
   "metadata": {},
   "source": [
    "Assume that one period is one quarter and the below parameters:"
   ]
  },
  {
   "cell_type": "markdown",
   "metadata": {},
   "source": [
    "| Parameter |      Value            |             Description    |\n",
    "| :---:     | :------:              | :------:                   |    \n",
    "| $g_n$     | $1.015^{1/4}-1$       | Net population growth rate |\n",
    "| $g_z$     | $1.016^{1/4}-1$       | Net technology growth rate |\n",
    "| $\\beta$   | $0.9722^{1/4}$        | Time preference            |\n",
    "| $\\delta$  | $1-(1-0.0464)^{1/4}$  | Capital depreciation rate  |\n",
    "| $\\psi$    | $2.24$                | Disutility of work         |\n",
    "| $\\sigma$  | $1.00001$             | CRRA coefficient           |\n",
    "| $\\theta$  | $0.35$                | Capital share of output    |"
   ]
  },
  {
   "cell_type": "markdown",
   "metadata": {},
   "source": [
    "Let $\\mathbf{P}$ be:"
   ]
  },
  {
   "cell_type": "markdown",
   "metadata": {},
   "source": [
    "$$ P =\n",
    "\\begin{bmatrix}\n",
    " 0.98    &-0.014 & -0.012  & 0.192 \\\\\n",
    "-0.033   & 0.956 & -0.045  & 0.057 \\\\\n",
    "-0.070   &-0.046 &  0.896  & 0.104 \\\\\n",
    " 0.005   &-0.008 &  0.049  & 0.971 \\\\\n",
    "\\end{bmatrix}\n",
    "$$"
   ]
  },
  {
   "cell_type": "markdown",
   "metadata": {},
   "source": [
    "Assume also that the unconditional mean of the $\\mathbf{s}_t$ process $\\mathbf{\\overline{s}}$ is given by:"
   ]
  },
  {
   "cell_type": "markdown",
   "metadata": {},
   "source": [
    "$$\\mathbf{\\overline{s}} = \n",
    "\\begin{bmatrix}\n",
    "-0.024 & 0.328 & 0.483 & -1.53\n",
    "\\end{bmatrix}\n",
    "$$"
   ]
  },
  {
   "cell_type": "markdown",
   "metadata": {},
   "source": [
    "Lastly, let the variance covariance matrix $\\mathbf{Q}'\\mathbf{Q}$ be such that:"
   ]
  },
  {
   "cell_type": "markdown",
   "metadata": {},
   "source": [
    "$$ Q =\n",
    "\\begin{bmatrix}\n",
    " 0.0116  & 0      &  0      & 0     \\\\\n",
    " 0.001   & 0.956  & -0.045  & 0.057 \\\\\n",
    "-0.07    &-0.046  &  0.896  & 0.104 \\\\\n",
    " 0.005   &-0.008  &  0.049  & 0.971 \\\\\n",
    "\\end{bmatrix}\n",
    "$$"
   ]
  },
  {
   "cell_type": "markdown",
   "metadata": {},
   "source": [
    "Solve for the log-linear approximation to the capital policy function $\\ln\\hat{k}_{t+1}=\\gamma_k\\ln \\hat{k}_t+\\mathbf{\\gamma}'\\mathbf{s}_t+\\mathbf{\\gamma}_0'$. Simulate time series for capital for 100 and 1000 realizations and plot the results."
   ]
  },
  {
   "cell_type": "markdown",
   "metadata": {},
   "source": [
    "### Solution"
   ]
  },
  {
   "cell_type": "markdown",
   "metadata": {},
   "source": [
    "1. Start by computing $\\mathbf{p}_0$. Hint: $\\mathbf{\\overline{s}}=\\frac{\\mathbf{p}_0}{\\mathbf{I}-\\mathbf{P}}$."
   ]
  },
  {
   "cell_type": "markdown",
   "metadata": {},
   "source": [
    "2. Solve for the steady state level of capital $k_{ss}$."
   ]
  },
  {
   "cell_type": "markdown",
   "metadata": {},
   "source": [
    "3. Create a function that, for given parameters, maps $k_{t+2},k_{t+2},k_t,\\mathbf{s}_{t+1}$ and $\\mathbf{s}_t$ to the residual of the Euler equation."
   ]
  },
  {
   "cell_type": "markdown",
   "metadata": {},
   "source": [
    "4. Use that function to compute $a_0, a_1, a_2, \\mathbf{b}_0$ and $\\mathbf{b}_1$."
   ]
  },
  {
   "cell_type": "markdown",
   "metadata": {},
   "source": [
    "5. Given $a_0, a_1$ and $a_2$, find $\\gamma_k$"
   ]
  },
  {
   "cell_type": "markdown",
   "metadata": {},
   "source": [
    "6. Given $a_0, \\gamma_k, a_1, \\mathbf{P}, \\mathbf{b}_0$ and $\\mathbf{b}_1$, find $\\mathbf{\\gamma}$."
   ]
  },
  {
   "cell_type": "markdown",
   "metadata": {},
   "source": [
    "7. Given $\\gamma_k, k_{ss}, \\mathbf{\\gamma}$ and $\\mathbf{\\overline{s}}$, get $\\gamma_0$."
   ]
  },
  {
   "cell_type": "markdown",
   "metadata": {},
   "source": [
    "8. Use the law of motion for $\\mathbf{s_t}$ to get 1000 realizations. Assume $\\mathbf{s}_0 = \\mathbf{\\overline{s}}$."
   ]
  },
  {
   "cell_type": "markdown",
   "metadata": {},
   "source": [
    "9. Given the time series for $\\mathbf{s}_t$, and the policy function for capital, get the time series for capital. Assume $k_1=k_{ss}$."
   ]
  },
  {
   "cell_type": "markdown",
   "metadata": {},
   "source": [
    "10. Plot the results using matplotlib."
   ]
  },
  {
   "cell_type": "markdown",
   "metadata": {},
   "source": [
    "## Iterative Methods: Value Function Iteration"
   ]
  },
  {
   "cell_type": "markdown",
   "metadata": {},
   "source": [
    "- Well known, basic algorithm of dynamic programming\n",
    "- We have tight convergence properties and bounds on errors \n",
    "- Well suited for parallelization\n",
    "- It will always work (though may be slow)"
   ]
  },
  {
   "cell_type": "markdown",
   "metadata": {},
   "source": [
    "How Do We Implement The Operator?\n",
    "\n",
    "We come back to our two distinctions: 􏰇finite versus infi􏰇nite time and discrete versus continuous state space\n",
    "\n",
    "Then we need to talk about: \n",
    "- Initialization\n",
    "- Discretization"
   ]
  },
  {
   "cell_type": "markdown",
   "metadata": {},
   "source": [
    "#### Value Function Iteration in Finite Time \n",
    "\n",
    "We begin with the Bellman operator:\n",
    "\n",
    "$$\\Gamma(V_t(x)) = \\max_{a \\in A(x,t)} 􏰖u(x, a) + \\beta E V_{t+1} (x^\\prime)􏰗  $$\n",
    "\n",
    "\n",
    "- Specify the terminal condition $V_T$:\n",
    "\n",
    "$$ V_{T−1}(x)= \\max_{a \\in A(x,t)} 􏰍u(x,a)+\\beta E V_T(x^\\prime)􏰎 $$\n",
    "\n",
    "\n",
    "- Then solve backwards to time 1:\n",
    "\n",
    "$$ V_1(x) = \\max_{a \\in A(x,t)} 􏰍u(x,a)+\\beta E V_2(x^\\prime)􏰎 $$"
   ]
  },
  {
   "cell_type": "markdown",
   "metadata": {},
   "source": [
    "#### Value Function Iteration in Infinite Time \n",
    "\n",
    "Again, we begin with the Bellman operator:\n",
    "\n",
    "$$\\Gamma(V(x)) = \\max_{a \\in A(x)} 􏰖u(x, a) + \\beta E V (x^\\prime)􏰗  $$\n",
    "\n",
    "- Specify the initial guess V_0 and compute:\n",
    "\n",
    "$$V_1(x) = \\max_{a \\in A(x)} 􏰖u(x, a) + \\beta E V_0 (x^\\prime)􏰗  $$\n",
    "\n",
    "\n",
    "• Then iterate until convergence:\n",
    "\n",
    "$$V_T(x) = \\max_{a \\in A(x)} 􏰖u(x, a) + \\beta E V_{T=1} (x^\\prime)􏰗  $$\n",
    "\n",
    "until\n",
    "\n",
    "$$ || V_T(x) - V_{T-1}(x)|| < \\epsilon $$"
   ]
  },
  {
   "cell_type": "markdown",
   "metadata": {},
   "source": [
    "􏰀Since (FE) is a “contraction mapping” this is guaranteed to converge.\n",
    "􏰀 \n",
    "- There are many ways of implementing this on a computer\n",
    "􏰀\n",
    "- In today’s exercise you will use the “beginner’s algorithm” known as “discretised value function iteration”.\n",
    "\n",
    "But before that let's talk about initialization and discretization."
   ]
  },
  {
   "cell_type": "markdown",
   "metadata": {},
   "source": [
    "#### Initialization\n",
    "\n",
    "- **Finite Time**\n",
    "\n",
    "    - Usually, economics of the problem provides natural choices.\n",
    "    - Example: final value of an optimal expenditure problem is zero.\n",
    "    - However, some times there are subtle issues.\n",
    "    - Example: what is the value of dying? And of bequests? OLG.\n",
    "    \n",
    "- **Infinite Time**\n",
    "\n",
    "    - Theorems tell us we will converge from any initial guess.\n",
    "    - That does not mean we should not be smart picking our initial guess.\n",
    "    - Several good ideas:\n",
    "        1. Steady state of the problem (if one exists). Usually saves at least one iteration. \n",
    "        2. Collapsing one or more dimensions of the problem. Which one?"
   ]
  },
  {
   "cell_type": "markdown",
   "metadata": {},
   "source": [
    "#### Discretization\n",
    "\n",
    "- In the case where we have a continuous state space, we need to discretize it into a grid\n",
    "- How do we do that?\n",
    "- Dealing with curse of dimensionality\n",
    "- Do we let future states lie outside the grid?"
   ]
  },
  {
   "cell_type": "markdown",
   "metadata": {},
   "source": [
    "- The exact problem:\n",
    "\n",
    "$$V(x) = \\max_{a \\in A(x)} 􏰖u(x, a) + \\beta E V (x^\\prime)􏰗  $$\n",
    "\n",
    "\n",
    "- The approximated problem on the computer:\n",
    "\n",
    "$$V(x) = \\max_{a \\in \\hat{A}(x)} 􏰖u(x, a) + \\beta \\sum_{j=1}^N V (x^\\prime_j) p_j(x^\\prime|x,a) 􏰗  $$"
   ]
  },
  {
   "cell_type": "markdown",
   "metadata": {},
   "source": [
    "Grid Generation\n",
    "\n",
    "- Huge literature on numerical analysis on how to e􏰉ciently generate grids\n",
    "\n",
    "- Two main issues:\n",
    "    1. How to select points sj\n",
    "    2. How to approximate $E$ by $p_N$\n",
    "    \n",
    "    \n",
    "- Answer to second issue follows from answer to fi􏰇rst problem\n",
    "- We can (and we will) combine strategies to generate grids\n",
    "\n",
    "**Uniform Grid**\n",
    "\n",
    "- First, decide the number of points in the grid \n",
    "- Distribute them uniformly in the state space \n",
    "- What if the state space is unbounded?\n",
    "\n",
    "- Advantages and disadvantages"
   ]
  },
  {
   "cell_type": "markdown",
   "metadata": {},
   "source": [
    "**Applying the Algorithm**\n",
    "\n",
    "- After deciding initialization and discretization still need to implement each step:\n",
    "\n",
    "$$V_T(x) = \\max_{a \\in \\hat{A}(x)} 􏰖u(x, a) + \\beta \\sum_{j=1}^N V_{T-1} (x^\\prime_j) p_j(x^\\prime|x,a) 􏰗 $$\n",
    "\n",
    "- Two numerical operators:\n",
    "    1. Maximization\n",
    "    2. Integration\n"
   ]
  },
  {
   "cell_type": "markdown",
   "metadata": {},
   "source": [
    "Maximization\n",
    "\n",
    "- We need to apply the max operator\n",
    "- Most costly step of value function iteration\n",
    "- All methods search through the space of feasible choices generating a sequence of guesses that converges to the solution\n",
    "- Use a variety of the methods we've already discussed"
   ]
  },
  {
   "cell_type": "markdown",
   "metadata": {},
   "source": [
    "### Value Function Iteration of the Baby Example: Nonstochastic RBC model "
   ]
  },
  {
   "cell_type": "markdown",
   "metadata": {},
   "source": [
    "### Exercise 3.\n",
    "\n",
    "􏰀a. Create a grid for capital, $K = (k_1,k_2,...k_n)$.\n",
    "\n",
    "􏰀b. Guess that $V_0(k)=0$ for all $k \\in K$.\n",
    "\n",
    "􏰀c. Assume same parameters as with exact solution in exercise 1. Iterate on $V_{n+1} = \\max_{k^\\prime \\in K}{u(k,k^\\prime) + \\beta V_n(k′)}$\n",
    "until convergence. Notice how the choices $k^\\prime$ is restricted to only take on values on the grid. Having a fine grid is important to have a good approximation!\n",
    "\n",
    "d. Find the associated optimal policy function and compare it with the loglinear approximation and with the exact solution.\n",
    "\n"
   ]
  }
 ],
 "metadata": {
  "kernelspec": {
   "display_name": "Python 3",
   "language": "python",
   "name": "python3"
  },
  "language_info": {
   "codemirror_mode": {
    "name": "ipython",
    "version": 3
   },
   "file_extension": ".py",
   "mimetype": "text/x-python",
   "name": "python",
   "nbconvert_exporter": "python",
   "pygments_lexer": "ipython3",
   "version": "3.6.7"
  },
  "varInspector": {
   "cols": {
    "lenName": 16,
    "lenType": 16,
    "lenVar": 40
   },
   "kernels_config": {
    "python": {
     "delete_cmd_postfix": "",
     "delete_cmd_prefix": "del ",
     "library": "var_list.py",
     "varRefreshCmd": "print(var_dic_list())"
    },
    "r": {
     "delete_cmd_postfix": ") ",
     "delete_cmd_prefix": "rm(",
     "library": "var_list.r",
     "varRefreshCmd": "cat(var_dic_list()) "
    }
   },
   "types_to_exclude": [
    "module",
    "function",
    "builtin_function_or_method",
    "instance",
    "_Feature"
   ],
   "window_display": false
  }
 },
 "nbformat": 4,
 "nbformat_minor": 2
}
