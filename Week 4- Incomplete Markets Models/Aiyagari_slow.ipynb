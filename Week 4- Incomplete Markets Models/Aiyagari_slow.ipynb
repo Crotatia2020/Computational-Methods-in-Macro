{
 "cells": [
  {
   "cell_type": "markdown",
   "metadata": {},
   "source": [
    "# Aiyagari Model"
   ]
  },
  {
   "cell_type": "markdown",
   "metadata": {},
   "source": [
    "I borrow this material from Quantitative Economics written by Thomas J. Sargent and John Stachurski."
   ]
  },
  {
   "cell_type": "markdown",
   "metadata": {},
   "source": [
    "## The Economy\n",
    "\n",
    "\n",
    "### Households\n",
    "\n",
    "Infinitely lived households / consumers face idiosyncratic income shocks\n",
    "\n",
    "A unit interval of ex ante identical households face a common borrowing constraint\n",
    "\n",
    "The savings problem faced by a typical household is:\n",
    "\n",
    "$$\\max  E \\sum_{t=0}^\\infty \\beta^t u(c_t) $$\n",
    "\n",
    "subject to\n",
    "\n",
    "$$c_t + a_{t+1} \\leq  w z_t + (1+r)a_t,$$ \n",
    "\n",
    "$$\\text{ } c_t \\geq 0, \\text{ } a_{t+1} \\geq -B$$"
   ]
  },
  {
   "cell_type": "markdown",
   "metadata": {},
   "source": [
    "### Firms"
   ]
  },
  {
   "cell_type": "markdown",
   "metadata": {},
   "source": [
    "Firms produce output by hiring capital and labor\n",
    "\n",
    "Firms act competitively and face constant returns to scale\n",
    "\n",
    "Since returns to scale are constant the number of firms does not matter\n",
    "\n",
    "Hence we can consider a single (but nonetheless competitive) representative firm\n",
    "\n",
    "The firm’s output is:\n",
    "\n",
    "$$ Y_t = A K_t^\\alpha L_t^{1-\\alpha}$$\n"
   ]
  },
  {
   "cell_type": "markdown",
   "metadata": {},
   "source": [
    "From the first-order condition with respect to capital, the firm’s inverse demand for capital is:\n",
    "\n",
    "$$ r = A \\alpha \\left(\\frac{N}{K}\\right)^{1-\\alpha}-\\delta$$"
   ]
  },
  {
   "cell_type": "markdown",
   "metadata": {},
   "source": [
    "Using this expression and the firm’s first-order condition for labor, we can pin down the equilibrium wage rate as a function of $r$ as:\n",
    "\n",
    "$$ w = A(1-\\alpha) (A \\alpha/(r+\\delta))^{\\alpha/(1-\\alpha)}$$ "
   ]
  },
  {
   "cell_type": "markdown",
   "metadata": {},
   "source": [
    "### Equilibrium\n",
    "\n",
    "We construct a stationary rational expectations equilibrium (SREE)\n",
    "\n",
    "In such an equilibrium\n",
    "\n",
    "- prices induce behavior that generates aggregate quantities consistent with the prices\n",
    "- aggregate quantities and prices are constant over time\n",
    "\n",
    "In more detail, an SREE lists a set of prices, savings and production policies such that\n",
    "\n",
    "- households want to choose the specified savings policies taking the prices as given\n",
    "- firms maximize profits taking the same prices as given\n",
    "- the resulting aggregate quantities are consistent with the prices; in particular, the demand for capital equals the supply\n",
    "- aggregate quantities (defined as cross-sectional averages) are constant\n",
    "\n",
    "In practice, once parameter values are set, we can check for an SREE by the following steps\n",
    "\n",
    "1. pick a proposed quantity K\n",
    "2. K for aggregate capital determine corresponding prices, with interest rate r determined by (1) and a wage rate w as given in (2)\n",
    "3. determine the common optimal savings policy of the households given these prices\n",
    "4. compute aggregate capital as the mean of steady state capital given this savings policy\n",
    "\n",
    "If this final quantity agrees with K, then we have a SREE\n",
    "\n",
    "> In this model, the aggregate demand for capital is trivial. The harder part is to find the aggregate supply of capital."
   ]
  },
  {
   "cell_type": "code",
   "execution_count": 6,
   "metadata": {},
   "outputs": [],
   "source": [
    "#To solve the household’s dynamic programming problem we’ll use the DiscreteDP class from QuantEcon.py\n",
    "\n",
    "# pip install quantecon\n",
    "# We will use a solver for discrete dynamic programs. It has value function iteration and policy function iteration\n",
    "from quantecon.markov import DiscreteDP\n",
    "#help(DiscreteDP)"
   ]
  },
  {
   "cell_type": "markdown",
   "metadata": {},
   "source": [
    "Our first task is to write code that maps parameters for a household problem into the R and Q matrices needed to generate an instance of DiscreteDP\n",
    "\n",
    "- where R needs to be a matrix where R[s, a] is the reward at state s under action a\n",
    "- Q needs to be a three dimensional array where Q[s, a, s'] is the probability of transitioning to state s' when the current state is s and the current action is a\n"
   ]
  },
  {
   "cell_type": "code",
   "execution_count": null,
   "metadata": {
    "collapsed": true
   },
   "outputs": [],
   "source": [
    "'''\n",
    "    Thishousehold class takes the parameters that define a household asset accumulation\n",
    "    problem and computes the corresponding reward and transition matrices R\n",
    "    and Q required to generate an instance of DiscreteDP, and thereby solve\n",
    "    for the optimal policy.\n",
    "\n",
    "    Comments on indexing: We need to enumerate the state space S as a sequence\n",
    "    S = {0, ..., n}.  To this end, (a_i, z_i) index pairs are mapped to s_i\n",
    "    indices according to the rule\n",
    "    \n",
    "        s_i = a_i * z_size + z_i \n",
    "        \n",
    "    To invert this map, use\n",
    "    \n",
    "        a_i = s_i // z_size  (integer division)\n",
    "        z_i = s_i % z_size\n",
    "'''"
   ]
  },
  {
   "cell_type": "markdown",
   "metadata": {},
   "source": [
    "### Exercise 1 - Define the Household Class"
   ]
  },
  {
   "cell_type": "markdown",
   "metadata": {},
   "source": [
    "1.1 First lets define the \n",
    "```Python\n",
    "_init_\n",
    "```\n",
    "function. There, store the parameters, the exogenous states, the markov chain, the grid and the prices."
   ]
  },
  {
   "cell_type": "markdown",
   "metadata": {},
   "source": [
    "$$\\begin{align}r &=0.01   \\\\  \n",
    "                w &=1.0   \\\\    \n",
    "                \\beta &=0.96  \\\\     \n",
    "                a_{min} &= 1e-10 \\\\\n",
    "                \\Pi &= [[0.9, 0.1], [0.1, 0.9]] \\\\\n",
    "                z_{vals} &= [0.1, 1.0] \\\\           \n",
    "                a_{max} &=18 \\\\\n",
    "                a_{size} &=200\n",
    "                \\end{align}$$"
   ]
  },
  {
   "cell_type": "markdown",
   "metadata": {},
   "source": [
    "1.2 Set up matrices $R$, the instante reward, and $Q$, the state transition matrix. (basically create these object and assign them to the household object (self).  Remember R(state, action) and Q(state, action, state_{t+1})"
   ]
  },
  {
   "cell_type": "markdown",
   "metadata": {},
   "source": [
    "1.3 Define the build $R$ and $Q$ functions as functions of a populate function to be defined later on. One for each inside class household. The populate function is a function of self.Q, self.a_size, self.z_size, self.Pi"
   ]
  },
  {
   "cell_type": "markdown",
   "metadata": {},
   "source": [
    "1.4 Lets define the populate_R(R, a_size, z_size, a_vals, z_vals, r, w). For all states and action a_{t+1} we need to evaluate the reward function R. Use log(c) for the utility."
   ]
  },
  {
   "cell_type": "markdown",
   "metadata": {},
   "source": [
    "1.5 Now lets define populate_Q(Q, a_size, z_size, Pi). Since we finding a SREE, we just need to put the markov transition into the S space. "
   ]
  },
  {
   "cell_type": "markdown",
   "metadata": {},
   "source": [
    "## Exercise 2 -  Compute and plot an optimal accumulation policy at fixed prices"
   ]
  },
  {
   "cell_type": "code",
   "execution_count": 13,
   "metadata": {
    "collapsed": true
   },
   "outputs": [],
   "source": [
    "import matplotlib.pyplot as plt\n",
    "# Example prices\n",
    "r = 0.03\n",
    "w = 0.956"
   ]
  },
  {
   "cell_type": "markdown",
   "metadata": {},
   "source": [
    "## Exercise 3 - Compute the equilibrium"
   ]
  },
  {
   "cell_type": "code",
   "execution_count": 14,
   "metadata": {
    "collapsed": true
   },
   "outputs": [],
   "source": [
    "A = 1.0\n",
    "N = 1.0\n",
    "α = 0.33\n",
    "β = 0.96\n",
    "δ = 0.05\n",
    "\n",
    "# Get the aggregate demand for capital. use your solution to the housholds problem, \n",
    "# then, aggregate individual assets using the probability distribution and get the aggregate supply for capital."
   ]
  },
  {
   "cell_type": "code",
   "execution_count": null,
   "metadata": {
    "collapsed": true
   },
   "outputs": [],
   "source": []
  }
 ],
 "metadata": {
  "kernelspec": {
   "display_name": "Python 3",
   "language": "python",
   "name": "python3"
  },
  "language_info": {
   "codemirror_mode": {
    "name": "ipython",
    "version": 3
   },
   "file_extension": ".py",
   "mimetype": "text/x-python",
   "name": "python",
   "nbconvert_exporter": "python",
   "pygments_lexer": "ipython3",
   "version": "3.6.7"
  },
  "varInspector": {
   "cols": {
    "lenName": 16,
    "lenType": 16,
    "lenVar": 40
   },
   "kernels_config": {
    "python": {
     "delete_cmd_postfix": "",
     "delete_cmd_prefix": "del ",
     "library": "var_list.py",
     "varRefreshCmd": "print(var_dic_list())"
    },
    "r": {
     "delete_cmd_postfix": ") ",
     "delete_cmd_prefix": "rm(",
     "library": "var_list.r",
     "varRefreshCmd": "cat(var_dic_list()) "
    }
   },
   "types_to_exclude": [
    "module",
    "function",
    "builtin_function_or_method",
    "instance",
    "_Feature"
   ],
   "window_display": false
  }
 },
 "nbformat": 4,
 "nbformat_minor": 2
}
