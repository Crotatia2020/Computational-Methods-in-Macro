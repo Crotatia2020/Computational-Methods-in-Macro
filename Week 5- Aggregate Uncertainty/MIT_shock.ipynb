{
 "cells": [
  {
   "cell_type": "markdown",
   "metadata": {},
   "source": [
    "### MIT Shocks"
   ]
  },
  {
   "cell_type": "markdown",
   "metadata": {},
   "source": [
    "- The general principle is to consider an economy that is at its steady-state in period $t$.\n",
    "\n",
    "- Then we expose the economy to some temporary shock, under the assumption that the economy will fully have reverted back to its steady-state in period $t + T$.\n",
    "\n",
    "- Then it’s not that hard to calculate the transition of the economy between period $t$ and $t + T$. Just compute the perfect foresight transition back to steady state!"
   ]
  },
  {
   "cell_type": "markdown",
   "metadata": {},
   "source": [
    "#### Algorithm\n",
    "\n",
    "- General principle: Guess how the capital stock will evolve from period $t + 1$ to period $t + T$ , assuming that\n",
    "it’s back to it’s steady state value in $t + T + 1$. Call this guess$\\{k_{t+s}^0 \\}^T_{s=1}$.\n",
    "\n",
    "\n",
    "- Given this guess, we can calculate wages and interest rates as $w^0_{t+s} = exp(z_{t+s})F_n(k^0_t,n)$ and\n",
    "$\\tilde{r}^0_{t+s} = exp(z_{t+s})F_k(k^0_t,n)$\n",
    "\n",
    "\n",
    "- 􏰀 Using time iteration again, we can find $\\tilde{g}(a, s)$ as\n",
    "$$u^\\prime((1+r^0_{t+s} )a+w^0_{t+s}−\\tilde{g}(a,s)) = β(1 + r^0_{t+s+1}) \\sum_{s^\\prime} 􏰇 u^\\prime((1 + r^0_{t+s+1} )\\tilde{g}(a, s) + w^0_{t+s+1} − g^0_{t+s+1} (\\tilde{g}(a, s), s′))p(s′, s)$$\n",
    "\n",
    "\n",
    "- Then $g^0_{t+s}(a,s) =  max\\{\\tilde{g}(a,s), \\phi  \\}$, with $g_{t+T+1}(a,s)= g(a,s)$\n",
    "\n",
    "\n",
    "- Then for each $g^0_t, g^0_{t+1} , ..., g^0_{t+s}$ we can find a transition matrix $M^0_{t+s}$\n",
    "\n",
    "\n",
    "- Given that we know $ψ_t (a, s) = ψ(a, s)$, we can update matrix as $ψ^0_{t+s+1} = ψ^0_{t+s} × M^0_{t+s} $, and calculate the implied aggregate asset holdings $A^0_{t+s}$ \n",
    "\n",
    "\n",
    "- Finally Then we update our guess for the sequence of capital as \n",
    "$\\{k^1_{t+s} \\}^T_{s=1} = η\\{k^0_{t+s} \\}^T_{s=1} + (1 − η)\\{A^0_{t+s} \\}^T_{s=1}$ with $η ∈ (0, 1]$\n",
    "\n",
    "\n",
    "- And repeat until $||\\{k^{n+1}_{t+s}\\}^T_{s=1} − \\{k^n_{t+s} \\}^T_{s=1}||<\\epsilon$"
   ]
  },
  {
   "cell_type": "markdown",
   "metadata": {},
   "source": [
    "### Example: Hugget Economy"
   ]
  },
  {
   "cell_type": "code",
   "execution_count": 636,
   "metadata": {},
   "outputs": [],
   "source": [
    "import numpy as np\n",
    "from scipy.interpolate import interp1d\n",
    "%config InlineBackend.figure_format = 'retina'\n",
    "\n",
    "gamma = 2.0\n",
    "w= 5        # wages\n",
    "β=1.03**(-1/12)       # discount factor\n",
    "#r=0.00246       # interest rate\n",
    "phi = -1.0\n",
    "a_min= -3.0\n",
    "Π = np.asarray([[0.4, 0.6], [0.6, 0.4]])  # Markov chain\n",
    "z_vals=[0.5, 1]             \n",
    "a_max=18\n",
    "a_size=300\n",
    "N = 300\n",
    "mu = 0.5\n",
    "a_vals = np.linspace(a_min,a_max,N)"
   ]
  },
  {
   "cell_type": "code",
   "execution_count": 474,
   "metadata": {},
   "outputs": [],
   "source": [
    "def time_g(r0,w0, r1, w1):\n",
    "    #bgrid = np.linspace(a_min,np.log(18-phi+1),N)\n",
    "    #a_vals = np.exp(bgrid)+phi-1;\n",
    "    ag1 = a_vals\n",
    "    ab1 = a_vals\n",
    "    ag = a_vals\n",
    "    ab = a_vals\n",
    "    metric = 1\n",
    "    \n",
    "    while metric > 1e-6:\n",
    "\n",
    "        gg = interp1d(ag1, a_vals,  'linear', fill_value = 'extrapolate')\n",
    "        gb = interp1d(ab1, a_vals,  'linear',  fill_value = 'extrapolate')\n",
    "\n",
    "        Eg = β*(1+r0)*( Π[0,1]*(a_vals*(1+r1)+w1-np.maximum(gg(a_vals),phi))**(-gamma)+Π[0,0]*(a_vals*(1+r1)+mu*w1-np.maximum(gb(a_vals),phi))**(-gamma) )\n",
    "        Eb = β*(1+r0)*( Π[1,1]*(a_vals*(1+r1)+w1-np.maximum(gg(a_vals),phi))**(-gamma)+Π[1,0]*(a_vals*(1+r1)+mu*w1-np.maximum(gb(a_vals),phi))**(-gamma) )\n",
    "\n",
    "        ag1 = (Eg**(-1/gamma)-w0+a_vals)/(1+r0)\n",
    "        ab1 = (Eb**(-1/gamma)-mu*w0+a_vals)/(1+r0)\n",
    "        \n",
    "        metric = np.array(([abs(ag1-ag),abs(ab1-ab)])).max()\n",
    "\n",
    "        ag = ag1\n",
    "        ab = ab1\n",
    "\n",
    "    return gg, gb"
   ]
  },
  {
   "cell_type": "code",
   "execution_count": 475,
   "metadata": {},
   "outputs": [],
   "source": [
    "gg, gb = time_g(0.105, 5.0, 0.105, 5.0)"
   ]
  },
  {
   "cell_type": "code",
   "execution_count": 487,
   "metadata": {},
   "outputs": [],
   "source": [
    "def agr_capital(gg, gb):\n",
    "    \n",
    "    a1g_star, a1b_star = np.maximum(gg(a_vals),phi), np.maximum(gb(a_vals),phi)\n",
    "    F = interp1d(a_vals,a_vals, kind = 'next', fill_value = 18.0, bounds_error=False);\n",
    "    a1gd_star = F(np.maximum(gg(a_vals),phi));\n",
    "    a1bd_star = F(np.maximum(gb(a_vals),phi));\n",
    "\n",
    "    Tg = np.zeros([N,N])\n",
    "    Tb = np.zeros([N,N])\n",
    "\n",
    "    for i in range(N):\n",
    "\n",
    "        ixg = np.where(a_vals==a1gd_star[i])[0][0]\n",
    "        Tg[i,ixg] = 1-(a_vals[ixg]-a1g_star[i])/(a_vals[ixg]-a_vals[ixg-1])\n",
    "        if Tg[i,ixg] > 1:\n",
    "            Tg[i,ixg] = 1.0\n",
    "        Tg[i,ixg-1] = 1-Tg[i,ixg]\n",
    "\n",
    "        ixb = np.where(a_vals==a1bd_star[i])[0][0]\n",
    "        if ixb == 0:\n",
    "            Tb[i,ixb] = 1\n",
    "        else:\n",
    "            Tb[i,ixb] = 1-(a_vals[ixb]-a1b_star[i])/(a_vals[ixb]-a_vals[ixb-1])\n",
    "            Tb[i,ixb-1] = 1-Tb[i,ixb]\n",
    "\n",
    "\n",
    "    P = Π\n",
    "\n",
    "    M_t = np.concatenate((np.concatenate((P[0,0]*Tb, P[0,1]*Tb), axis=1),np.concatenate((P[1,0]*Tg,P[1,1]*Tg), axis=1)), axis=0)\n",
    "\n",
    "\n",
    "    from scipy.sparse import csr_matrix\n",
    "    M = csr_matrix(M_t)\n",
    "\n",
    "    M2 = csr_matrix.transpose(M)\n",
    "    import scipy.sparse.linalg as sla\n",
    "\n",
    "\n",
    "    D, V = sla.eigs(M2, k=1, sigma = 1.0)\n",
    "    V = np.real(V)/sum(np.real(V))\n",
    "    dist = V[0:N]+V[N:]\n",
    "    mean_a = np.dot(a_vals.T,dist)\n",
    "    \n",
    "    return mean_a, M_t, dist, V"
   ]
  },
  {
   "cell_type": "code",
   "execution_count": 488,
   "metadata": {},
   "outputs": [],
   "source": [
    "A, M, dist, V = agr_capital(gg, gb)"
   ]
  },
  {
   "cell_type": "code",
   "execution_count": 489,
   "metadata": {},
   "outputs": [
    {
     "data": {
      "text/plain": [
       "array([-3.8982706e-14])"
      ]
     },
     "execution_count": 489,
     "metadata": {},
     "output_type": "execute_result"
    }
   ],
   "source": [
    "A"
   ]
  },
  {
   "cell_type": "code",
   "execution_count": 490,
   "metadata": {},
   "outputs": [],
   "source": [
    "def total_A(r):\n",
    "    gg, gb = time_g(r, 5.0, r, 5.0)\n",
    "    A, M, dist, V = agr_capital(gg, gb)\n",
    "    return A"
   ]
  },
  {
   "cell_type": "code",
   "execution_count": 492,
   "metadata": {},
   "outputs": [
    {
     "data": {
      "text/plain": [
       "array([-3.93435284e-14])"
      ]
     },
     "execution_count": 492,
     "metadata": {},
     "output_type": "execute_result"
    }
   ],
   "source": [
    "total_A(sol)"
   ]
  },
  {
   "cell_type": "code",
   "execution_count": 292,
   "metadata": {},
   "outputs": [],
   "source": [
    "import scipy.optimize as opt\n",
    "sol = opt.root_scalar(total_A, bracket = [-0.11, -0.10]).root"
   ]
  },
  {
   "cell_type": "code",
   "execution_count": 293,
   "metadata": {},
   "outputs": [
    {
     "data": {
      "text/plain": [
       "-0.10418860985914367"
      ]
     },
     "execution_count": 293,
     "metadata": {},
     "output_type": "execute_result"
    }
   ],
   "source": [
    "sol"
   ]
  },
  {
   "cell_type": "markdown",
   "metadata": {},
   "source": [
    "1- Create guess for interest rates."
   ]
  },
  {
   "cell_type": "code",
   "execution_count": 649,
   "metadata": {},
   "outputs": [],
   "source": [
    "s = 20 # Periods until back to steady state\n",
    "r0s =  np.ones(s+1)*(sol)\n",
    "ws = np.ones(s+1)*5\n",
    "ws[0] = 5.05 # Shock in wage"
   ]
  },
  {
   "cell_type": "code",
   "execution_count": 650,
   "metadata": {},
   "outputs": [],
   "source": [
    "# Find policy functions for each period of the simulation\n",
    "ggs = []\n",
    "gbs = []\n",
    "\n",
    "for i in range(0,20):\n",
    "    gg, gb = time_g(r0s[i], ws[i], r0s[i+1], ws[i+1])\n",
    "    #gg, gb = np.maximum(gg(a_vals),phi), np.maximum(gb(a_vals),phi)\n",
    "    ggs.append(gg)\n",
    "    gbs.append(gb)\n",
    "\n",
    "# Given policies, find transition matrices\n",
    "Ms = []\n",
    "for i in range(0,20):\n",
    "    _, M, _, _ = agr_capital(ggs[i], gbs[i])\n",
    "    Ms.append(M)\n",
    "    \n",
    "# Update distribution along simulation\n",
    "phis = [V]\n",
    "for i in range(0,20):\n",
    "    dist1 = np.dot(phis[i].T, Ms[i])\n",
    "    phis.append(dist1.T)\n",
    "phis.remove(V)   \n",
    "\n",
    "# Calculate implied Asset Holdings\n",
    "As = []\n",
    "for i in range(0,20):\n",
    "    dist = phis[i][0:N]+phis[i][N:]\n",
    "    As.append(np.dot(a_vals.T,dist))\n",
    "    \n",
    "# Calculate implied interest rates - How to get prices?\n",
    "\n"
   ]
  },
  {
   "cell_type": "code",
   "execution_count": 651,
   "metadata": {},
   "outputs": [
    {
     "data": {
      "text/plain": [
       "[array([0.06017229]),\n",
       " array([0.0360912]),\n",
       " array([0.02082366]),\n",
       " array([0.01224856]),\n",
       " array([0.00708238]),\n",
       " array([0.00414855]),\n",
       " array([0.00241852]),\n",
       " array([0.0014125]),\n",
       " array([0.00082358]),\n",
       " array([0.00048065]),\n",
       " array([0.00028046]),\n",
       " array([0.00016366]),\n",
       " array([9.5499726e-05]),\n",
       " array([5.57278462e-05]),\n",
       " array([3.25196195e-05]),\n",
       " array([1.89765594e-05]),\n",
       " array([1.10736404e-05]),\n",
       " array([6.46194859e-06]),\n",
       " array([3.77082977e-06]),\n",
       " array([2.20044363e-06])]"
      ]
     },
     "execution_count": 651,
     "metadata": {},
     "output_type": "execute_result"
    }
   ],
   "source": [
    "As"
   ]
  },
  {
   "cell_type": "code",
   "execution_count": 662,
   "metadata": {},
   "outputs": [],
   "source": [
    "def agr_capital2(gg, gb):\n",
    "    \n",
    "    a1g_star, a1b_star = np.maximum(gg(a_vals),phi), np.maximum(gb(a_vals),phi)\n",
    "    F = interp1d(a_vals,a_vals, kind = 'next', fill_value = 18.0, bounds_error=False);\n",
    "    a1gd_star = F(np.maximum(gg(a_vals),phi));\n",
    "    a1bd_star = F(np.maximum(gb(a_vals),phi));\n",
    "\n",
    "    Tg = np.zeros([N,N])\n",
    "    Tb = np.zeros([N,N])\n",
    "\n",
    "    for i in range(N):\n",
    "\n",
    "        ixg = np.where(a_vals==a1gd_star[i])[0][0]\n",
    "        Tg[i,ixg] = 1-(a_vals[ixg]-a1g_star[i])/(a_vals[ixg]-a_vals[ixg-1])\n",
    "        if Tg[i,ixg] > 1:\n",
    "            Tg[i,ixg] = 1.0\n",
    "        Tg[i,ixg-1] = 1-Tg[i,ixg]\n",
    "\n",
    "        ixb = np.where(a_vals==a1bd_star[i])[0][0]\n",
    "        if ixb == 0:\n",
    "            Tb[i,ixb] = 1\n",
    "        else:\n",
    "            Tb[i,ixb] = 1-(a_vals[ixb]-a1b_star[i])/(a_vals[ixb]-a_vals[ixb-1])\n",
    "            Tb[i,ixb-1] = 1-Tb[i,ixb]\n",
    "\n",
    "\n",
    "    P = Π\n",
    "\n",
    "    M_t = np.concatenate((np.concatenate((P[0,0]*Tb, P[0,1]*Tb), axis=1),np.concatenate((P[1,0]*Tg,P[1,1]*Tg), axis=1)), axis=0)\n",
    "    \n",
    "    return M_t"
   ]
  },
  {
   "cell_type": "code",
   "execution_count": 663,
   "metadata": {},
   "outputs": [],
   "source": [
    "def total_A(r0s, r1, j):\n",
    "    ggs = []\n",
    "    gbs = []\n",
    "    r0s = np.hstack([r0s, sol])\n",
    "    r0s[j] = r1\n",
    "    #r0s[1:2] = r1\n",
    "    for i in range(0,20):\n",
    "        gg, gb = time_g(r0s[i], ws[i], r0s[i+1], ws[i+1])\n",
    "        #gg, gb = np.maximum(gg(a_vals),phi), np.maximum(gb(a_vals),phi)\n",
    "        ggs.append(gg)\n",
    "        gbs.append(gb)\n",
    "\n",
    "    # Given policies, find transition matrices\n",
    "    Ms = []\n",
    "    for i in range(0,20):\n",
    "        M = agr_capital2(ggs[i], gbs[i])\n",
    "        Ms.append(M)\n",
    "\n",
    "    # Update distribution along simulation\n",
    "    phis = [V]\n",
    "    for i in range(0,20):\n",
    "        dist1 = np.dot(phis[i].T, Ms[i])\n",
    "        phis.append(dist1.T)\n",
    "    phis.remove(V)   \n",
    "\n",
    "    # Calculate implied Asset Holdings\n",
    "    As = []\n",
    "    for i in range(0,20):\n",
    "        dist = phis[i][0:N]+phis[i][N:]\n",
    "        As.append(np.dot(a_vals.T,dist))\n",
    "    res = np.array(As).reshape(20)    \n",
    "    return res[j]"
   ]
  },
  {
   "cell_type": "code",
   "execution_count": 690,
   "metadata": {},
   "outputs": [
    {
     "data": {
      "text/plain": [
       "-0.2860204611370009"
      ]
     },
     "execution_count": 690,
     "metadata": {},
     "output_type": "execute_result"
    }
   ],
   "source": [
    "total_A(r0s, r0s[0]-0.1, 0)"
   ]
  },
  {
   "cell_type": "code",
   "execution_count": 695,
   "metadata": {},
   "outputs": [
    {
     "name": "stdout",
     "output_type": "stream",
     "text": [
      "1 -0.11860106105558217\n",
      "2 -0.10409770737023728\n",
      "3 -0.10411086285419949\n",
      "4 -0.10418971044778745\n",
      "5 -0.10418148407776523\n",
      "6 -0.10418741041689726\n",
      "7 -0.10418790041789515\n",
      "8 -0.10418867411390707\n",
      "9 -0.10418854298776745\n",
      "10 -0.1041885952696304\n",
      "11 -0.10418860165762045\n",
      "12 -0.1041886083008467\n",
      "13 -0.10418860889718652\n",
      "14 -0.10418860958561026\n",
      "15 -0.1041886097566642\n",
      "16 -0.10418860983292995\n",
      "17 -0.10418860984717633\n",
      "18 -0.1041886098552869\n",
      "19 -0.10418860985783644\n",
      "20 -0.10418860985870615\n"
     ]
    },
    {
     "data": {
      "text/plain": [
       "array([-0.11860106, -0.10409771, -0.10411086, -0.10418971, -0.10418148,\n",
       "       -0.10418741, -0.1041879 , -0.10418867, -0.10418854, -0.1041886 ,\n",
       "       -0.1041886 , -0.10418861, -0.10418861, -0.10418861, -0.10418861,\n",
       "       -0.10418861, -0.10418861, -0.10418861, -0.10418861, -0.10418861,\n",
       "       -0.10418861])"
      ]
     },
     "execution_count": 695,
     "metadata": {},
     "output_type": "execute_result"
    }
   ],
   "source": [
    "# Calculate implied interest rates - How to get prices?\n",
    "r1s = []\n",
    "eta = 0.2\n",
    "j = 1\n",
    "for i in range(0,20):\n",
    "    r1 = opt.root_scalar(lambda r1: total_A(r0s, r1, i), bracket = [r0s[i]-0.001, r0s[i]+0.001] , method = 'brentq').root\n",
    "    r0s[i] = r1\n",
    "    print(j, r1)\n",
    "    j+=1\n",
    "r0s"
   ]
  },
  {
   "cell_type": "code",
   "execution_count": 696,
   "metadata": {},
   "outputs": [],
   "source": [
    "# Find policy functions for each period of the simulation\n",
    "ggs = []\n",
    "gbs = []\n",
    "\n",
    "for i in range(0,20):\n",
    "    gg, gb = time_g(r0s[i], ws[i], r0s[i+1], ws[i+1])\n",
    "    #gg, gb = np.maximum(gg(a_vals),phi), np.maximum(gb(a_vals),phi)\n",
    "    ggs.append(gg)\n",
    "    gbs.append(gb)\n",
    "\n",
    "# Given policies, find transition matrices\n",
    "Ms = []\n",
    "for i in range(0,20):\n",
    "    M = agr_capital2(ggs[i], gbs[i])\n",
    "    Ms.append(M)\n",
    "    \n",
    "# Update distribution along simulation\n",
    "phis = [V]\n",
    "for i in range(0,20):\n",
    "    dist1 = np.dot(phis[i].T, Ms[i])\n",
    "    phis.append(dist1.T)\n",
    "phis.remove(V)   \n",
    "\n",
    "# Calculate implied Asset Holdings\n",
    "As = []\n",
    "dists = []\n",
    "for i in range(0,20):\n",
    "    dist = phis[i][0:N]+phis[i][N:]\n",
    "    dists.append(dist)\n",
    "    As.append(np.dot(a_vals.T,dist))"
   ]
  },
  {
   "cell_type": "code",
   "execution_count": 702,
   "metadata": {},
   "outputs": [
    {
     "data": {
      "image/png": "[encoded data removed]",
      "text/plain": [
       "<Figure size 576x288 with 2 Axes>"
      ]
     },
     "metadata": {
      "image/png": {
       "height": 279,
       "width": 568
      },
      "needs_background": "light"
     },
     "output_type": "display_data"
    }
   ],
   "source": [
    "import matplotlib.pyplot as plt\n",
    "fig, ax = plt.subplots(1,2, figsize=(8,4))\n",
    "ax[0].plot(np.arange(0,s+1), (ws-w)/w)\n",
    "ax[0].set_title('Responses')\n",
    "ax[0].set_xlabel('Periods')\n",
    "ax[0].set_ylabel('w')\n",
    "ax[1].plot(np.arange(0,s+1), r0s-sol)\n",
    "ax[1].set_title('Responses')\n",
    "ax[1].set_xlabel('Periods')\n",
    "ax[1].set_ylabel('r')\n",
    "plt.tight_layout()\n",
    "plt.show()"
   ]
  },
  {
   "cell_type": "code",
   "execution_count": 648,
   "metadata": {},
   "outputs": [
    {
     "data": {
      "image/png": "[encoded data removed]",
      "text/plain": [
       "<Figure size 432x288 with 1 Axes>"
      ]
     },
     "metadata": {
      "image/png": {
       "height": 248,
       "width": 378
      },
      "needs_background": "light"
     },
     "output_type": "display_data"
    }
   ],
   "source": [
    "plt.figure(figsize=(6,4))\n",
    "plt.plot(a_vals, dists[0])\n",
    "#plt.plot(a_vals, dists[19])\n",
    "plt.plot(a_vals, dist)\n",
    "plt.show()"
   ]
  },
  {
   "cell_type": "markdown",
   "metadata": {},
   "source": [
    "### MIT Shock in Aiyagari Model"
   ]
  },
  {
   "cell_type": "code",
   "execution_count": 353,
   "metadata": {},
   "outputs": [],
   "source": [
    "## import numpy as np\n",
    "import matplotlib.pyplot as plt\n",
    "from quantecon.markov import DiscreteDP\n",
    "import scipy.optimize as opt\n",
    "from scipy.interpolate import interp1d\n",
    "\n",
    "\n",
    "gamma = 2\n",
    "mu = 0.5\n",
    "alpha = 1/3\n",
    "phi = -1.0\n",
    "beta = 1.03**(-1/12)\n",
    "delta = 0.025\n",
    "a_min = -3.0\n",
    "a_max = 60.0\n",
    "A = 1.0\n",
    "L = 1.0\n",
    "N = 100\n",
    "\n",
    "P = np.array([[0.4,0.6], [0.6, 0.4]])\n",
    "\n",
    "\n",
    "agrid = np.linspace(a_min,np.log(a_max-phi+1),N)\n",
    "a_vals = np.exp(agrid)+phi-1\n",
    "\n",
    "\n",
    "def rd(K, A = 1.0):\n",
    "    return A * alpha * (L / K)**(1 - alpha) - delta\n",
    "\n",
    "def r_to_w(r, A = 1.0):\n",
    "    \"\"\"\n",
    "    Equilibrium wages associated with a given interest rate r.\n",
    "    \"\"\"\n",
    "    return A * (1 - alpha) * (A * alpha / (r + delta))**(alpha / (1 - alpha))\n",
    "\n",
    "def policy(r0, w0, r1, w1):\n",
    "    ag1 = a_vals\n",
    "    ab1 = a_vals\n",
    "    ag = a_vals\n",
    "    ab = a_vals\n",
    "    metric = 1\n",
    "    \n",
    "    while metric > 1e-6:\n",
    "\n",
    "        gg = interp1d(ag1, a_vals,  'linear', fill_value = 'extrapolate')\n",
    "        gb = interp1d(ab1, a_vals,  'linear',  fill_value = 'extrapolate')\n",
    "\n",
    "        Eg = beta*(1+r1)*( P[0,1]*(a_vals*(1+r1)+w1-np.maximum(gg(a_vals),phi))**(-gamma)+P[0,0]*(a_vals*(1+r1)+mu*w1-np.maximum(gb(a_vals),phi))**(-gamma) )\n",
    "        Eb = beta*(1+r1)*( P[1,1]*(a_vals*(1+r1)+w1-np.maximum(gg(a_vals),phi))**(-gamma)+P[1,0]*(a_vals*(1+r1)+mu*w1-np.maximum(gb(a_vals),phi))**(-gamma) )\n",
    "\n",
    "        ag1 = (Eg**(-1/gamma)-w0+a_vals)/(1+r0)\n",
    "        ab1 = (Eb**(-1/gamma)-mu*w0+a_vals)/(1+r0)\n",
    "        \n",
    "        metric = np.array(([abs(ag1-ag),abs(ab1-ab)])).max()\n",
    "\n",
    "        ag = ag1\n",
    "        ab = ab1\n",
    "\n",
    "    return gg, gb\n",
    "\n",
    "\n",
    "def makeTransition_M(gg, gb):\n",
    "    a1g_star, a1b_star = np.maximum(gg(a_vals),phi), np.maximum(gb(a_vals),phi)\n",
    "    F = interp1d(a_vals,a_vals, kind = 'next', fill_value = a_vals[-1], bounds_error=False);\n",
    "    a1gd_star = F(np.maximum(gg(a_vals),phi));\n",
    "    a1bd_star = F(np.maximum(gb(a_vals),phi));\n",
    "\n",
    "    Tg = np.zeros([N,N])\n",
    "    Tb = np.zeros([N,N])\n",
    "\n",
    "    for i in range(N):\n",
    "    \n",
    "        ixg = np.where(a_vals==a1gd_star[i])[0][0]\n",
    "        Tg[i,ixg] = 1-(a_vals[ixg]-a1g_star[i])/(a_vals[ixg]-a_vals[ixg-1])\n",
    "        if Tg[i,ixg] > 1:\n",
    "            Tg[i,ixg] = 1.0\n",
    "        Tg[i,ixg-1] = 1-Tg[i,ixg]\n",
    "    \n",
    "        ixb = np.where(a_vals==a1bd_star[i])[0][0]\n",
    "        if ixb == 0:\n",
    "            Tb[i,ixb] = 1.0\n",
    "        else:\n",
    "            Tb[i,ixb] = 1-(a_vals[ixb]-a1b_star[i])/(a_vals[ixb]-a_vals[ixb-1])\n",
    "            if Tb[i,ixb] > 1:\n",
    "                Tb[i,ixb] = 1.0\n",
    "            Tb[i,ixb-1] = 1-Tb[i,ixb]\n",
    "\n",
    "        \n",
    "    M = np.concatenate((np.concatenate((P[0,0]*Tb, P[0,1]*Tb), axis=1),np.concatenate((P[1,0]*Tg,P[1,1]*Tg), axis=1)), axis=0)\n",
    "\n",
    "    return M\n",
    "\n",
    "def GetStationaryDist(M):\n",
    "    eval,evec = np.linalg.eig(M.T)\n",
    "    i = np.argmin(np.abs(eval-1.0))\n",
    "    D = np.array(evec[:,i]).flatten()\n",
    "    assert np.max(np.abs(np.imag(D))) < 1e-6\n",
    "    D = np.real(D)  # just recasts as float\n",
    "    return D/D.sum()\n",
    "\n",
    "def agr_capital(dist):\n",
    "    a_dist = dist[0:N]+dist[N:]\n",
    "    return np.dot(a_vals.T, a_dist)\n",
    "\n",
    "def prices_to_capital(r):\n",
    "    gg, gb = policy(r, r_to_w(r), r, r_to_w(r))\n",
    "    M = makeTransition_M(gg,gb)\n",
    "    dist = GetStationaryDist(M)\n",
    "    K = agr_capital(dist)\n",
    "    return K\n",
    "\n",
    "def equilibrium_ss():\n",
    "    res = lambda K: K - prices_to_capital(rd(K))\n",
    "    Kss_certain =  ((1/beta-1+delta)/alpha)**(1./(alpha-1))\n",
    "    sol  = opt.root_scalar(res, bracket = [0.8*Kss_certain,1.2*Kss_certain], method = 'brentq').root\n",
    "    return sol\n",
    "\n",
    "\n",
    "def policy_back(r0, w0, r1, w1, gg, gb):\n",
    "    ag1 = a_vals\n",
    "    ab1 = a_vals\n",
    "    ag = a_vals\n",
    "    ab = a_vals\n",
    "\n",
    "    Eg = beta*(1+r1)*( P[0,1]*(a_vals*(1+r1)+w1-np.maximum(gg(a_vals),phi))**(-gamma)+P[0,0]*(a_vals*(1+r1)+mu*w1-np.maximum(gb(a_vals),phi))**(-gamma) )\n",
    "    Eb = beta*(1+r1)*( P[1,1]*(a_vals*(1+r1)+w1-np.maximum(gg(a_vals),phi))**(-gamma)+P[1,0]*(a_vals*(1+r1)+mu*w1-np.maximum(gb(a_vals),phi))**(-gamma) )\n",
    "\n",
    "    ag1 = (Eg**(-1/gamma)-w0+a_vals)/(1+r0)\n",
    "    ab1 = (Eb**(-1/gamma)-mu*w0+a_vals)/(1+r0)\n",
    "\n",
    "    gg1 = interp1d(ag1, a_vals,  'linear', fill_value = 'extrapolate')\n",
    "    gb1 = interp1d(ab1, a_vals,  'linear',  fill_value = 'extrapolate')\n",
    "\n",
    "    return gg1, gb1"
   ]
  },
  {
   "cell_type": "code",
   "execution_count": 354,
   "metadata": {},
   "outputs": [],
   "source": [
    "Kss = equilibrium_ss()"
   ]
  },
  {
   "cell_type": "code",
   "execution_count": 496,
   "metadata": {},
   "outputs": [],
   "source": [
    "r = rd(Kss)\n",
    "w = r_to_w(r)\n",
    "gg, gb = policy(r, w, r, w)\n",
    "M = makeTransition_M(gg, gb)\n",
    "dist = GetStationaryDist(M)"
   ]
  },
  {
   "cell_type": "code",
   "execution_count": 497,
   "metadata": {},
   "outputs": [
    {
     "data": {
      "text/plain": [
       "(200, 200)"
      ]
     },
     "execution_count": 497,
     "metadata": {},
     "output_type": "execute_result"
    }
   ],
   "source": [
    "M.T.shape"
   ]
  },
  {
   "cell_type": "code",
   "execution_count": 498,
   "metadata": {},
   "outputs": [
    {
     "data": {
      "text/plain": [
       "(200,)"
      ]
     },
     "execution_count": 498,
     "metadata": {},
     "output_type": "execute_result"
    }
   ],
   "source": [
    "dist.shape"
   ]
  },
  {
   "cell_type": "markdown",
   "metadata": {},
   "source": [
    "### TFP Shock"
   ]
  },
  {
   "cell_type": "code",
   "execution_count": 553,
   "metadata": {},
   "outputs": [],
   "source": [
    "s = 50\n",
    "As = np.ones(s+1)*1.0\n",
    "As[0] = 1.01"
   ]
  },
  {
   "cell_type": "code",
   "execution_count": 554,
   "metadata": {},
   "outputs": [],
   "source": [
    "# Guess K sequence\n",
    "K0s = np.ones(s+1)*Kss\n",
    "\n",
    "gg_ss, gb_ss = policy(rd(Kss), r_to_w(rd(Kss)), rd(Kss), r_to_w(rd(Kss)))"
   ]
  },
  {
   "cell_type": "code",
   "execution_count": 555,
   "metadata": {},
   "outputs": [
    {
     "data": {
      "text/plain": [
       "array([0.00285117, 0.00257542, 0.00257542, 0.00257542, 0.00257542,\n",
       "       0.00257542, 0.00257542, 0.00257542, 0.00257542, 0.00257542,\n",
       "       0.00257542, 0.00257542, 0.00257542, 0.00257542, 0.00257542,\n",
       "       0.00257542, 0.00257542, 0.00257542, 0.00257542, 0.00257542,\n",
       "       0.00257542, 0.00257542, 0.00257542, 0.00257542, 0.00257542,\n",
       "       0.00257542, 0.00257542, 0.00257542, 0.00257542, 0.00257542,\n",
       "       0.00257542, 0.00257542, 0.00257542, 0.00257542, 0.00257542,\n",
       "       0.00257542, 0.00257542, 0.00257542, 0.00257542, 0.00257542,\n",
       "       0.00257542, 0.00257542, 0.00257542, 0.00257542, 0.00257542,\n",
       "       0.00257542, 0.00257542, 0.00257542, 0.00257542, 0.00257542,\n",
       "       0.00257542])"
      ]
     },
     "execution_count": 555,
     "metadata": {},
     "output_type": "execute_result"
    }
   ],
   "source": [
    "# Update Prices\n",
    "rs = rd(K0s, As)\n",
    "    \n",
    "ws = r_to_w(rs, As)\n",
    "\n",
    "rs"
   ]
  },
  {
   "cell_type": "code",
   "execution_count": 556,
   "metadata": {},
   "outputs": [],
   "source": [
    "# Update Policies\n",
    "ggs = [None] * s\n",
    "ggs.insert(s, gg_ss)\n",
    "\n",
    "gbs = [None] * s\n",
    "gbs.insert(s, gb_ss)\n",
    "\n",
    "for i in range(s,0,-1):\n",
    "    r1 = rd(K0s[i], As[i])\n",
    "    r0 = rd(K0s[i-1], As[i-1])\n",
    "    w1 = r_to_w(r1, As[i])\n",
    "    w0 = r_to_w(r0, As[i-1])\n",
    "    gg1, gb1 = policy_back(r0, w0, r1, w1, ggs[i], gbs[i])\n",
    "    ggs[i-1] = gg1\n",
    "    gbs[i-1] = gb1"
   ]
  },
  {
   "cell_type": "code",
   "execution_count": 557,
   "metadata": {},
   "outputs": [],
   "source": [
    "# Update Transition Matrices\n",
    "Ms = [None]*s\n",
    "\n",
    "for i in range(0,s,1):\n",
    "    Ms[i]= makeTransition_M(ggs[i], gbs[i])"
   ]
  },
  {
   "cell_type": "code",
   "execution_count": 558,
   "metadata": {},
   "outputs": [],
   "source": [
    "# Update Distributions\n",
    "dists = [None]*s\n",
    "\n",
    "for i in range(0,s,1):\n",
    "    dists[i] = np.dot(dist, Ms[i])"
   ]
  },
  {
   "cell_type": "code",
   "execution_count": 559,
   "metadata": {},
   "outputs": [],
   "source": [
    "# Update Aggregates\n",
    "K1s = [None]*s\n",
    "K1s.insert(s, Kss)\n",
    "\n",
    "for i in range(0,s,1):\n",
    "    K1s[i] = agr_capital(dists[i])"
   ]
  },
  {
   "cell_type": "code",
   "execution_count": 560,
   "metadata": {},
   "outputs": [],
   "source": [
    "def update_agreggates(K0s):\n",
    "    # Update Prices\n",
    "    rs = rd(K0s, As)\n",
    "\n",
    "    ws = r_to_w(rs, As)\n",
    "    \n",
    "    # Update Policies\n",
    "    ggs = [None] * s\n",
    "    ggs.insert(s, gg_ss)\n",
    "\n",
    "    gbs = [None] * s\n",
    "    gbs.insert(s, gb_ss)\n",
    "\n",
    "    for i in range(s,0,-1):\n",
    "        r1 = rd(K0s[i], As[i])\n",
    "        r0 = rd(K0s[i-1], As[i-1])\n",
    "        w1 = r_to_w(r1, As[i])\n",
    "        w0 = r_to_w(r0, As[i-1])\n",
    "        gg1, gb1 = policy_back(r0, w0, r1, w1, ggs[i], gbs[i])\n",
    "        ggs[i-1] = gg1\n",
    "        gbs[i-1] = gb1\n",
    "        \n",
    "    Ms = [None]*s\n",
    "\n",
    "    for i in range(0,s,1):\n",
    "        Ms[i]= makeTransition_M(ggs[i], gbs[i])\n",
    "        \n",
    "    # Update Distributions\n",
    "    dists = [None]*s\n",
    "\n",
    "    for i in range(0,s,1):\n",
    "        dists[i] = np.dot(dist, Ms[i])\n",
    "        \n",
    "    K1s = [None]*s\n",
    "    K1s.insert(s, Kss)\n",
    "\n",
    "    for i in range(0,s,1):\n",
    "        K1s[i] = agr_capital(dists[i])\n",
    "    \n",
    "    return np.array(K1s), ggs, gbs, dists"
   ]
  },
  {
   "cell_type": "code",
   "execution_count": 561,
   "metadata": {},
   "outputs": [
    {
     "name": "stdout",
     "output_type": "stream",
     "text": [
      "0.026196390876691567\n",
      "0.02093570668505862\n",
      "0.016731467098601627\n",
      "0.013371514824818576\n",
      "0.010686299609808714\n",
      "0.008540321137694207\n",
      "0.006825290674754569\n",
      "0.00545466618182644\n",
      "0.004359285000582247\n",
      "0.0034838736531028758\n",
      "0.0027842585839792378\n",
      "0.002225137064392868\n",
      "0.001778295755521242\n",
      "0.0014211870263025617\n",
      "0.0011357911775888851\n",
      "0.0009077071547309856\n",
      "0.0007254258627398258\n",
      "0.0005797494129922143\n",
      "0.00046332699567841473\n",
      "0.0003702839568973104\n",
      "0.0002959253632255354\n",
      "0.00023649909560674587\n",
      "0.00018900651749476083\n",
      "0.0001510511640248069\n",
      "0.00012071781681299854\n",
      "9.64758621648798e-05\n",
      "7.710205677824433e-05\n",
      "6.161880304489387e-05\n",
      "4.924481962831351e-05\n",
      "3.935571825763873e-05\n",
      "3.145249728930821e-05\n",
      "2.51363620407119e-05\n",
      "2.008860182911576e-05\n",
      "1.6054507852913957e-05\n",
      "1.2830520702777903e-05\n",
      "1.0253958720340961e-05\n",
      "8.19480918323734e-06\n",
      "6.549167913760812e-06\n",
      "5.233996198228397e-06\n",
      "4.182930801732709e-06\n",
      "3.3429351731228962e-06\n",
      "2.671623327898942e-06\n",
      "2.1351210435227586e-06\n",
      "1.7063564996533387e-06\n",
      "1.363694337896959e-06\n",
      "1.0898439128936843e-06\n",
      "8.709868097867002e-07\n"
     ]
    }
   ],
   "source": [
    "def equilibrium_trans(Kguess):\n",
    "    for i in range(0,s):\n",
    "        aggK, ggs, gbs, dists = update_agreggates(Kguess)\n",
    "        dif = max(abs(Kguess-aggK))\n",
    "        print(dif)\n",
    "        if dif < 1e-6:\n",
    "            return aggK, ggs, gbs, dists\n",
    "        Kguess = 0.2*aggK + 0.8*Kguess\n",
    "\n",
    "    print(\"Did not converge\")\n",
    "\n",
    "aggK, ggs, gbs, dists = equilibrium_trans(K0s)"
   ]
  },
  {
   "cell_type": "code",
   "execution_count": 593,
   "metadata": {},
   "outputs": [
    {
     "data": {
      "image/png": "[encoded data removed]",
      "text/plain": [
       "<Figure size 576x360 with 4 Axes>"
      ]
     },
     "metadata": {
      "image/png": {
       "height": 351,
       "width": 569
      },
      "needs_background": "light"
     },
     "output_type": "display_data"
    }
   ],
   "source": [
    "%config InlineBackend.figure_format = 'retina'\n",
    "fig, ax = plt.subplots(2,2, figsize = (8,5))\n",
    "ax[0,0].plot(np.arange(0,s+1), (aggK-Kss)/Kss*100)\n",
    "ax[0,0].set_title('K')\n",
    "ax[0,1].plot(np.arange(0,s+1), (rd(aggK)-rd(Kss))*100)\n",
    "ax[0,1].set_title('r')\n",
    "ax[1,0].plot(np.arange(0,s+1), (r_to_w(rd(aggK))-r_to_w(rd(Kss)))/r_to_w(rd(Kss))*100)\n",
    "ax[1,0].set_title('w')\n",
    "\n",
    "ax[1,1].plot(a_vals, dists[0][0:N]+dists[0][N:], label = 's=0')\n",
    "ax[1,1].plot(a_vals, dists[30][0:N]+dists[30][N:], label = 's=30')\n",
    "ax[1,1].legend()\n",
    "plt.tight_layout()\n",
    "plt.show()"
   ]
  }
 ],
 "metadata": {
  "kernelspec": {
   "display_name": "Python 3",
   "language": "python",
   "name": "python3"
  },
  "language_info": {
   "codemirror_mode": {
    "name": "ipython",
    "version": 3
   },
   "file_extension": ".py",
   "mimetype": "text/x-python",
   "name": "python",
   "nbconvert_exporter": "python",
   "pygments_lexer": "ipython3",
   "version": "3.6.9"
  },
  "varInspector": {
   "cols": {
    "lenName": 16,
    "lenType": 16,
    "lenVar": 40
   },
   "kernels_config": {
    "python": {
     "delete_cmd_postfix": "",
     "delete_cmd_prefix": "del ",
     "library": "var_list.py",
     "varRefreshCmd": "print(var_dic_list())"
    },
    "r": {
     "delete_cmd_postfix": ") ",
     "delete_cmd_prefix": "rm(",
     "library": "var_list.r",
     "varRefreshCmd": "cat(var_dic_list()) "
    }
   },
   "types_to_exclude": [
    "module",
    "function",
    "builtin_function_or_method",
    "instance",
    "_Feature"
   ],
   "window_display": false
  }
 },
 "nbformat": 4,
 "nbformat_minor": 2
}
